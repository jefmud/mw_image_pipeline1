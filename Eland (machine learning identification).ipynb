{
 "cells": [
  {
   "cell_type": "code",
   "execution_count": 35,
   "metadata": {},
   "outputs": [],
   "source": [
    "import os\n",
    "import pandas as pd"
   ]
  },
  {
   "cell_type": "code",
   "execution_count": 36,
   "metadata": {},
   "outputs": [],
   "source": [
    "# load up the CSV file as a DataFrame\n",
    "filename = os.path.join('Downloads','eland_output.csv')\n",
    "df = pd.read_csv(filename)"
   ]
  },
  {
   "cell_type": "code",
   "execution_count": 39,
   "metadata": {},
   "outputs": [
    {
     "data": {
      "text/html": [
       "<div>\n",
       "<style scoped>\n",
       "    .dataframe tbody tr th:only-of-type {\n",
       "        vertical-align: middle;\n",
       "    }\n",
       "\n",
       "    .dataframe tbody tr th {\n",
       "        vertical-align: top;\n",
       "    }\n",
       "\n",
       "    .dataframe thead th {\n",
       "        text-align: right;\n",
       "    }\n",
       "</style>\n",
       "<table border=\"1\" class=\"dataframe\">\n",
       "  <thead>\n",
       "    <tr style=\"text-align: right;\">\n",
       "      <th></th>\n",
       "      <th>id</th>\n",
       "      <th>label</th>\n",
       "      <th>prediction_top</th>\n",
       "      <th>confidence_top</th>\n",
       "      <th>predictions_all</th>\n",
       "      <th>ID</th>\n",
       "      <th>Species</th>\n",
       "    </tr>\n",
       "  </thead>\n",
       "  <tbody>\n",
       "    <tr>\n",
       "      <th>0</th>\n",
       "      <td>ASG00073xh</td>\n",
       "      <td>resting</td>\n",
       "      <td>0</td>\n",
       "      <td>0.9998</td>\n",
       "      <td>{'0': '0.9998', '1': '0.0002'}</td>\n",
       "      <td>97734</td>\n",
       "      <td>eland</td>\n",
       "    </tr>\n",
       "    <tr>\n",
       "      <th>1</th>\n",
       "      <td>ASG00073xh</td>\n",
       "      <td>babies</td>\n",
       "      <td>0</td>\n",
       "      <td>0.9887</td>\n",
       "      <td>{'0': '0.9887', '1': '0.0113'}</td>\n",
       "      <td>97734</td>\n",
       "      <td>eland</td>\n",
       "    </tr>\n",
       "    <tr>\n",
       "      <th>2</th>\n",
       "      <td>ASG00073xh</td>\n",
       "      <td>standing</td>\n",
       "      <td>0</td>\n",
       "      <td>0.6387</td>\n",
       "      <td>{'0': '0.6387', '1': '0.3613'}</td>\n",
       "      <td>97734</td>\n",
       "      <td>eland</td>\n",
       "    </tr>\n",
       "    <tr>\n",
       "      <th>3</th>\n",
       "      <td>ASG00073xh</td>\n",
       "      <td>count</td>\n",
       "      <td>2</td>\n",
       "      <td>0.5971</td>\n",
       "      <td>{'4': '0.0114', '6': '0.0011', '1': '0.2925', ...</td>\n",
       "      <td>97734</td>\n",
       "      <td>eland</td>\n",
       "    </tr>\n",
       "    <tr>\n",
       "      <th>4</th>\n",
       "      <td>ASG00073xh</td>\n",
       "      <td>moving</td>\n",
       "      <td>1</td>\n",
       "      <td>0.7161</td>\n",
       "      <td>{'0': '0.2839', '1': '0.7161'}</td>\n",
       "      <td>97734</td>\n",
       "      <td>eland</td>\n",
       "    </tr>\n",
       "    <tr>\n",
       "      <th>5</th>\n",
       "      <td>ASG00073xh</td>\n",
       "      <td>eating</td>\n",
       "      <td>0</td>\n",
       "      <td>0.9632</td>\n",
       "      <td>{'0': '0.9632', '1': '0.0368'}</td>\n",
       "      <td>97734</td>\n",
       "      <td>eland</td>\n",
       "    </tr>\n",
       "    <tr>\n",
       "      <th>6</th>\n",
       "      <td>ASG00073xh</td>\n",
       "      <td>interacting</td>\n",
       "      <td>0</td>\n",
       "      <td>0.9935</td>\n",
       "      <td>{'0': '0.9935', '1': '0.0065'}</td>\n",
       "      <td>97734</td>\n",
       "      <td>eland</td>\n",
       "    </tr>\n",
       "    <tr>\n",
       "      <th>7</th>\n",
       "      <td>ASG00073xh</td>\n",
       "      <td>species</td>\n",
       "      <td>eland</td>\n",
       "      <td>0.5329</td>\n",
       "      <td>{'bushbuck': '0.0000', 'human': '0.0004', 'vul...</td>\n",
       "      <td>97734</td>\n",
       "      <td>eland</td>\n",
       "    </tr>\n",
       "    <tr>\n",
       "      <th>8</th>\n",
       "      <td>ASG00074z4</td>\n",
       "      <td>resting</td>\n",
       "      <td>0</td>\n",
       "      <td>0.9963</td>\n",
       "      <td>{'0': '0.9963', '1': '0.0037'}</td>\n",
       "      <td>98530</td>\n",
       "      <td>eland</td>\n",
       "    </tr>\n",
       "    <tr>\n",
       "      <th>9</th>\n",
       "      <td>ASG00074z4</td>\n",
       "      <td>babies</td>\n",
       "      <td>0</td>\n",
       "      <td>0.9700</td>\n",
       "      <td>{'0': '0.9700', '1': '0.0300'}</td>\n",
       "      <td>98530</td>\n",
       "      <td>eland</td>\n",
       "    </tr>\n",
       "  </tbody>\n",
       "</table>\n",
       "</div>"
      ],
      "text/plain": [
       "           id        label prediction_top  confidence_top  \\\n",
       "0  ASG00073xh      resting              0          0.9998   \n",
       "1  ASG00073xh       babies              0          0.9887   \n",
       "2  ASG00073xh     standing              0          0.6387   \n",
       "3  ASG00073xh        count              2          0.5971   \n",
       "4  ASG00073xh       moving              1          0.7161   \n",
       "5  ASG00073xh       eating              0          0.9632   \n",
       "6  ASG00073xh  interacting              0          0.9935   \n",
       "7  ASG00073xh      species          eland          0.5329   \n",
       "8  ASG00074z4      resting              0          0.9963   \n",
       "9  ASG00074z4       babies              0          0.9700   \n",
       "\n",
       "                                     predictions_all     ID Species  \n",
       "0                     {'0': '0.9998', '1': '0.0002'}  97734   eland  \n",
       "1                     {'0': '0.9887', '1': '0.0113'}  97734   eland  \n",
       "2                     {'0': '0.6387', '1': '0.3613'}  97734   eland  \n",
       "3  {'4': '0.0114', '6': '0.0011', '1': '0.2925', ...  97734   eland  \n",
       "4                     {'0': '0.2839', '1': '0.7161'}  97734   eland  \n",
       "5                     {'0': '0.9632', '1': '0.0368'}  97734   eland  \n",
       "6                     {'0': '0.9935', '1': '0.0065'}  97734   eland  \n",
       "7  {'bushbuck': '0.0000', 'human': '0.0004', 'vul...  97734   eland  \n",
       "8                     {'0': '0.9963', '1': '0.0037'}  98530   eland  \n",
       "9                     {'0': '0.9700', '1': '0.0300'}  98530   eland  "
      ]
     },
     "execution_count": 39,
     "metadata": {},
     "output_type": "execute_result"
    }
   ],
   "source": [
    "# show first five to demonstrate what is in the file\n",
    "df.head(10)"
   ]
  },
  {
   "cell_type": "code",
   "execution_count": 40,
   "metadata": {},
   "outputs": [],
   "source": [
    "# filter the DataFrame to ONLY contain the species information\n",
    "df = df[df.label=='species']"
   ]
  },
  {
   "cell_type": "code",
   "execution_count": 41,
   "metadata": {},
   "outputs": [
    {
     "data": {
      "text/html": [
       "<div>\n",
       "<style scoped>\n",
       "    .dataframe tbody tr th:only-of-type {\n",
       "        vertical-align: middle;\n",
       "    }\n",
       "\n",
       "    .dataframe tbody tr th {\n",
       "        vertical-align: top;\n",
       "    }\n",
       "\n",
       "    .dataframe thead th {\n",
       "        text-align: right;\n",
       "    }\n",
       "</style>\n",
       "<table border=\"1\" class=\"dataframe\">\n",
       "  <thead>\n",
       "    <tr style=\"text-align: right;\">\n",
       "      <th></th>\n",
       "      <th>id</th>\n",
       "      <th>label</th>\n",
       "      <th>prediction_top</th>\n",
       "      <th>confidence_top</th>\n",
       "      <th>predictions_all</th>\n",
       "      <th>ID</th>\n",
       "      <th>Species</th>\n",
       "    </tr>\n",
       "  </thead>\n",
       "  <tbody>\n",
       "    <tr>\n",
       "      <th>7</th>\n",
       "      <td>ASG00073xh</td>\n",
       "      <td>species</td>\n",
       "      <td>eland</td>\n",
       "      <td>0.5329</td>\n",
       "      <td>{'bushbuck': '0.0000', 'human': '0.0004', 'vul...</td>\n",
       "      <td>97734</td>\n",
       "      <td>eland</td>\n",
       "    </tr>\n",
       "    <tr>\n",
       "      <th>15</th>\n",
       "      <td>ASG00074z4</td>\n",
       "      <td>species</td>\n",
       "      <td>gazellegrants</td>\n",
       "      <td>0.4943</td>\n",
       "      <td>{'bushbuck': '0.0001', 'human': '0.0004', 'vul...</td>\n",
       "      <td>98530</td>\n",
       "      <td>eland</td>\n",
       "    </tr>\n",
       "    <tr>\n",
       "      <th>23</th>\n",
       "      <td>ASG00076pg</td>\n",
       "      <td>species</td>\n",
       "      <td>eland</td>\n",
       "      <td>0.8082</td>\n",
       "      <td>{'bushbuck': '0.0000', 'human': '0.0000', 'vul...</td>\n",
       "      <td>99176</td>\n",
       "      <td>eland</td>\n",
       "    </tr>\n",
       "    <tr>\n",
       "      <th>31</th>\n",
       "      <td>ASG0002rq3</td>\n",
       "      <td>species</td>\n",
       "      <td>gazellethomsons</td>\n",
       "      <td>0.9247</td>\n",
       "      <td>{'bushbuck': '0.0000', 'human': '0.0004', 'vul...</td>\n",
       "      <td>1115</td>\n",
       "      <td>eland</td>\n",
       "    </tr>\n",
       "    <tr>\n",
       "      <th>39</th>\n",
       "      <td>ASG000738p</td>\n",
       "      <td>species</td>\n",
       "      <td>eland</td>\n",
       "      <td>0.9647</td>\n",
       "      <td>{'bushbuck': '0.0000', 'human': '0.0000', 'vul...</td>\n",
       "      <td>97514</td>\n",
       "      <td>eland</td>\n",
       "    </tr>\n",
       "  </tbody>\n",
       "</table>\n",
       "</div>"
      ],
      "text/plain": [
       "            id    label   prediction_top  confidence_top  \\\n",
       "7   ASG00073xh  species            eland          0.5329   \n",
       "15  ASG00074z4  species    gazellegrants          0.4943   \n",
       "23  ASG00076pg  species            eland          0.8082   \n",
       "31  ASG0002rq3  species  gazellethomsons          0.9247   \n",
       "39  ASG000738p  species            eland          0.9647   \n",
       "\n",
       "                                      predictions_all     ID Species  \n",
       "7   {'bushbuck': '0.0000', 'human': '0.0004', 'vul...  97734   eland  \n",
       "15  {'bushbuck': '0.0001', 'human': '0.0004', 'vul...  98530   eland  \n",
       "23  {'bushbuck': '0.0000', 'human': '0.0000', 'vul...  99176   eland  \n",
       "31  {'bushbuck': '0.0000', 'human': '0.0004', 'vul...   1115   eland  \n",
       "39  {'bushbuck': '0.0000', 'human': '0.0000', 'vul...  97514   eland  "
      ]
     },
     "execution_count": 41,
     "metadata": {},
     "output_type": "execute_result"
    }
   ],
   "source": [
    "df.head()"
   ]
  },
  {
   "cell_type": "code",
   "execution_count": 67,
   "metadata": {},
   "outputs": [
    {
     "data": {
      "text/plain": [
       "eland              1754\n",
       "hartebeest          366\n",
       "zebra               200\n",
       "wildebeest          116\n",
       "gazellethomsons      44\n",
       "gazellegrants        35\n",
       "elephant             31\n",
       "giraffe              23\n",
       "buffalo              22\n",
       "lionfemale           18\n",
       "topi                 15\n",
       "impala               13\n",
       "otherbird            10\n",
       "hyenaspotted          9\n",
       "ostrich               7\n",
       "guineafowl            5\n",
       "warthog               5\n",
       "hippopotamus          5\n",
       "human                 4\n",
       "lionmale              2\n",
       "baboon                1\n",
       "cheetah               1\n",
       "serval                1\n",
       "reedbuck              1\n",
       "koribustard           1\n",
       "Name: prediction_top, dtype: int64"
      ]
     },
     "execution_count": 67,
     "metadata": {},
     "output_type": "execute_result"
    }
   ],
   "source": [
    "df.prediction_top.value_counts().plot.bar()"
   ]
  },
  {
   "cell_type": "code",
   "execution_count": 69,
   "metadata": {},
   "outputs": [
    {
     "data": {
      "text/plain": [
       "<matplotlib.axes._subplots.AxesSubplot at 0x28111c12dd8>"
      ]
     },
     "execution_count": 69,
     "metadata": {},
     "output_type": "execute_result"
    },
    {
     "data": {
      "image/png": "[encoded data removed]",
      "text/plain": [
       "<Figure size 432x288 with 1 Axes>"
      ]
     },
     "metadata": {},
     "output_type": "display_data"
    }
   ],
   "source": [
    "df.prediction_top.value_counts().plot.bar(title='prediction count')"
   ]
  },
  {
   "cell_type": "code",
   "execution_count": 55,
   "metadata": {},
   "outputs": [
    {
     "data": {
      "text/plain": [
       "count    2689.000000\n",
       "mean        0.769764\n",
       "std         0.229900\n",
       "min         0.126300\n",
       "25%         0.587700\n",
       "50%         0.852500\n",
       "75%         0.979800\n",
       "max         1.000000\n",
       "Name: confidence_top, dtype: float64"
      ]
     },
     "execution_count": 55,
     "metadata": {},
     "output_type": "execute_result"
    }
   ],
   "source": [
    "# a quick look at the 'confidence_top' data\n",
    "df['confidence_top'].describe()"
   ]
  },
  {
   "cell_type": "code",
   "execution_count": 66,
   "metadata": {},
   "outputs": [
    {
     "data": {
      "text/plain": [
       "<matplotlib.axes._subplots.AxesSubplot at 0x281187c1dd8>"
      ]
     },
     "execution_count": 66,
     "metadata": {},
     "output_type": "execute_result"
    },
    {
     "data": {
      "image/png": "[encoded data removed]",
      "text/plain": [
       "<Figure size 432x288 with 1 Axes>"
      ]
     },
     "metadata": {},
     "output_type": "display_data"
    }
   ],
   "source": [
    "df.boxplot(column='confidence_top', showfliers=False)"
   ]
  },
  {
   "cell_type": "code",
   "execution_count": 61,
   "metadata": {},
   "outputs": [
    {
     "data": {
      "text/html": [
       "<div>\n",
       "<style scoped>\n",
       "    .dataframe tbody tr th:only-of-type {\n",
       "        vertical-align: middle;\n",
       "    }\n",
       "\n",
       "    .dataframe tbody tr th {\n",
       "        vertical-align: top;\n",
       "    }\n",
       "\n",
       "    .dataframe thead th {\n",
       "        text-align: right;\n",
       "    }\n",
       "</style>\n",
       "<table border=\"1\" class=\"dataframe\">\n",
       "  <thead>\n",
       "    <tr style=\"text-align: right;\">\n",
       "      <th></th>\n",
       "      <th>id</th>\n",
       "      <th>label</th>\n",
       "      <th>prediction_top</th>\n",
       "      <th>confidence_top</th>\n",
       "      <th>predictions_all</th>\n",
       "      <th>ID</th>\n",
       "      <th>Species</th>\n",
       "    </tr>\n",
       "  </thead>\n",
       "  <tbody>\n",
       "    <tr>\n",
       "      <th>7</th>\n",
       "      <td>ASG00073xh</td>\n",
       "      <td>species</td>\n",
       "      <td>eland</td>\n",
       "      <td>0.5329</td>\n",
       "      <td>{'bushbuck': '0.0000', 'human': '0.0004', 'vul...</td>\n",
       "      <td>97734</td>\n",
       "      <td>eland</td>\n",
       "    </tr>\n",
       "    <tr>\n",
       "      <th>23</th>\n",
       "      <td>ASG00076pg</td>\n",
       "      <td>species</td>\n",
       "      <td>eland</td>\n",
       "      <td>0.8082</td>\n",
       "      <td>{'bushbuck': '0.0000', 'human': '0.0000', 'vul...</td>\n",
       "      <td>99176</td>\n",
       "      <td>eland</td>\n",
       "    </tr>\n",
       "    <tr>\n",
       "      <th>39</th>\n",
       "      <td>ASG000738p</td>\n",
       "      <td>species</td>\n",
       "      <td>eland</td>\n",
       "      <td>0.9647</td>\n",
       "      <td>{'bushbuck': '0.0000', 'human': '0.0000', 'vul...</td>\n",
       "      <td>97514</td>\n",
       "      <td>eland</td>\n",
       "    </tr>\n",
       "    <tr>\n",
       "      <th>55</th>\n",
       "      <td>ASG000769d</td>\n",
       "      <td>species</td>\n",
       "      <td>eland</td>\n",
       "      <td>0.5218</td>\n",
       "      <td>{'bushbuck': '0.0000', 'human': '0.0003', 'vul...</td>\n",
       "      <td>98844</td>\n",
       "      <td>eland</td>\n",
       "    </tr>\n",
       "    <tr>\n",
       "      <th>87</th>\n",
       "      <td>ASG0006osa</td>\n",
       "      <td>species</td>\n",
       "      <td>eland</td>\n",
       "      <td>0.9656</td>\n",
       "      <td>{'bushbuck': '0.0000', 'human': '0.0000', 'vul...</td>\n",
       "      <td>93465</td>\n",
       "      <td>eland</td>\n",
       "    </tr>\n",
       "  </tbody>\n",
       "</table>\n",
       "</div>"
      ],
      "text/plain": [
       "            id    label prediction_top  confidence_top  \\\n",
       "7   ASG00073xh  species          eland          0.5329   \n",
       "23  ASG00076pg  species          eland          0.8082   \n",
       "39  ASG000738p  species          eland          0.9647   \n",
       "55  ASG000769d  species          eland          0.5218   \n",
       "87  ASG0006osa  species          eland          0.9656   \n",
       "\n",
       "                                      predictions_all     ID Species  \n",
       "7   {'bushbuck': '0.0000', 'human': '0.0004', 'vul...  97734   eland  \n",
       "23  {'bushbuck': '0.0000', 'human': '0.0000', 'vul...  99176   eland  \n",
       "39  {'bushbuck': '0.0000', 'human': '0.0000', 'vul...  97514   eland  \n",
       "55  {'bushbuck': '0.0000', 'human': '0.0003', 'vul...  98844   eland  \n",
       "87  {'bushbuck': '0.0000', 'human': '0.0000', 'vul...  93465   eland  "
      ]
     },
     "execution_count": 61,
     "metadata": {},
     "output_type": "execute_result"
    }
   ],
   "source": [
    "# create a new data frame that only contains 'eland' as top prediction\n",
    "edf = df[df.prediction_top=='eland']\n",
    "edf.head()"
   ]
  },
  {
   "cell_type": "code",
   "execution_count": 62,
   "metadata": {},
   "outputs": [
    {
     "data": {
      "text/plain": [
       "count    1754.000000\n",
       "mean        0.850093\n",
       "std         0.182690\n",
       "min         0.229700\n",
       "25%         0.757675\n",
       "50%         0.937550\n",
       "75%         0.991400\n",
       "max         1.000000\n",
       "Name: confidence_top, dtype: float64"
      ]
     },
     "execution_count": 62,
     "metadata": {},
     "output_type": "execute_result"
    }
   ],
   "source": [
    "# a quick look at the 'confidence_top' of eland ONLY predictions.\n",
    "edf['confidence_top'].describe()"
   ]
  },
  {
   "cell_type": "code",
   "execution_count": 65,
   "metadata": {},
   "outputs": [
    {
     "data": {
      "text/plain": [
       "<matplotlib.axes._subplots.AxesSubplot at 0x28111ee7588>"
      ]
     },
     "execution_count": 65,
     "metadata": {},
     "output_type": "execute_result"
    },
    {
     "data": {
      "image/png": "[encoded data removed]",
      "text/plain": [
       "<Figure size 432x288 with 1 Axes>"
      ]
     },
     "metadata": {},
     "output_type": "display_data"
    }
   ],
   "source": [
    "edf.boxplot(column='confidence_top', showfliers=False)"
   ]
  },
  {
   "cell_type": "code",
   "execution_count": 64,
   "metadata": {},
   "outputs": [
    {
     "data": {
      "text/plain": [
       "0.652287095574563"
      ]
     },
     "execution_count": 64,
     "metadata": {},
     "output_type": "execute_result"
    }
   ],
   "source": [
    "# what is the percentage of EXACT match 'eland' to the whole set.\n",
    "len(edf)/float(len(df))"
   ]
  },
  {
   "cell_type": "code",
   "execution_count": null,
   "metadata": {},
   "outputs": [],
   "source": []
  }
 ],
 "metadata": {
  "kernelspec": {
   "display_name": "Python 3",
   "language": "python",
   "name": "python3"
  },
  "language_info": {
   "codemirror_mode": {
    "name": "ipython",
    "version": 3
   },
   "file_extension": ".py",
   "mimetype": "text/x-python",
   "name": "python",
   "nbconvert_exporter": "python",
   "pygments_lexer": "ipython3",
   "version": "3.6.5"
  }
 },
 "nbformat": 4,
 "nbformat_minor": 2
}
