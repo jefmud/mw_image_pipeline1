{
 "cells": [
  {
   "cell_type": "code",
   "execution_count": 1,
   "metadata": {},
   "outputs": [],
   "source": [
    "import os\n",
    "import pandas as pd\n",
    "# load up the CSV file as a DataFrame\n",
    "filename = os.path.join('Downloads','lion_output.csv')\n",
    "df = pd.read_csv(filename)"
   ]
  },
  {
   "cell_type": "code",
   "execution_count": 2,
   "metadata": {},
   "outputs": [
    {
     "data": {
      "text/html": [
       "<div>\n",
       "<style scoped>\n",
       "    .dataframe tbody tr th:only-of-type {\n",
       "        vertical-align: middle;\n",
       "    }\n",
       "\n",
       "    .dataframe tbody tr th {\n",
       "        vertical-align: top;\n",
       "    }\n",
       "\n",
       "    .dataframe thead th {\n",
       "        text-align: right;\n",
       "    }\n",
       "</style>\n",
       "<table border=\"1\" class=\"dataframe\">\n",
       "  <thead>\n",
       "    <tr style=\"text-align: right;\">\n",
       "      <th></th>\n",
       "      <th>id</th>\n",
       "      <th>label</th>\n",
       "      <th>prediction_top</th>\n",
       "      <th>confidence_top</th>\n",
       "      <th>predictions_all</th>\n",
       "      <th>ID</th>\n",
       "      <th>Species</th>\n",
       "    </tr>\n",
       "  </thead>\n",
       "  <tbody>\n",
       "    <tr>\n",
       "      <th>0</th>\n",
       "      <td>ASG0000fb2</td>\n",
       "      <td>babies</td>\n",
       "      <td>0</td>\n",
       "      <td>0.9214</td>\n",
       "      <td>{'0': '0.9214', '1': '0.0786'}</td>\n",
       "      <td>22843</td>\n",
       "      <td>lionFemale</td>\n",
       "    </tr>\n",
       "    <tr>\n",
       "      <th>1</th>\n",
       "      <td>ASG0000fb2</td>\n",
       "      <td>moving</td>\n",
       "      <td>1</td>\n",
       "      <td>0.9931</td>\n",
       "      <td>{'0': '0.0069', '1': '0.9931'}</td>\n",
       "      <td>22843</td>\n",
       "      <td>lionFemale</td>\n",
       "    </tr>\n",
       "    <tr>\n",
       "      <th>2</th>\n",
       "      <td>ASG0000fb2</td>\n",
       "      <td>species</td>\n",
       "      <td>lionmale</td>\n",
       "      <td>0.2551</td>\n",
       "      <td>{'zebra': '0.0029', 'jackal': '0.0000', 'kudu'...</td>\n",
       "      <td>22843</td>\n",
       "      <td>lionFemale</td>\n",
       "    </tr>\n",
       "    <tr>\n",
       "      <th>3</th>\n",
       "      <td>ASG0000fb2</td>\n",
       "      <td>standing</td>\n",
       "      <td>0</td>\n",
       "      <td>0.9872</td>\n",
       "      <td>{'0': '0.9872', '1': '0.0128'}</td>\n",
       "      <td>22843</td>\n",
       "      <td>lionFemale</td>\n",
       "    </tr>\n",
       "    <tr>\n",
       "      <th>4</th>\n",
       "      <td>ASG0000fb2</td>\n",
       "      <td>count</td>\n",
       "      <td>2</td>\n",
       "      <td>0.6472</td>\n",
       "      <td>{'7': '0.0005', '10': '0.0002', '1': '0.2150',...</td>\n",
       "      <td>22843</td>\n",
       "      <td>lionFemale</td>\n",
       "    </tr>\n",
       "  </tbody>\n",
       "</table>\n",
       "</div>"
      ],
      "text/plain": [
       "           id     label prediction_top  confidence_top  \\\n",
       "0  ASG0000fb2    babies              0          0.9214   \n",
       "1  ASG0000fb2    moving              1          0.9931   \n",
       "2  ASG0000fb2   species       lionmale          0.2551   \n",
       "3  ASG0000fb2  standing              0          0.9872   \n",
       "4  ASG0000fb2     count              2          0.6472   \n",
       "\n",
       "                                     predictions_all     ID     Species  \n",
       "0                     {'0': '0.9214', '1': '0.0786'}  22843  lionFemale  \n",
       "1                     {'0': '0.0069', '1': '0.9931'}  22843  lionFemale  \n",
       "2  {'zebra': '0.0029', 'jackal': '0.0000', 'kudu'...  22843  lionFemale  \n",
       "3                     {'0': '0.9872', '1': '0.0128'}  22843  lionFemale  \n",
       "4  {'7': '0.0005', '10': '0.0002', '1': '0.2150',...  22843  lionFemale  "
      ]
     },
     "execution_count": 2,
     "metadata": {},
     "output_type": "execute_result"
    }
   ],
   "source": [
    "df.head()"
   ]
  },
  {
   "cell_type": "code",
   "execution_count": 3,
   "metadata": {},
   "outputs": [],
   "source": [
    "# filter the DataFrame to ONLY contain the species information\n",
    "df = df[df.label=='species']"
   ]
  },
  {
   "cell_type": "code",
   "execution_count": 4,
   "metadata": {},
   "outputs": [
    {
     "data": {
      "text/html": [
       "<div>\n",
       "<style scoped>\n",
       "    .dataframe tbody tr th:only-of-type {\n",
       "        vertical-align: middle;\n",
       "    }\n",
       "\n",
       "    .dataframe tbody tr th {\n",
       "        vertical-align: top;\n",
       "    }\n",
       "\n",
       "    .dataframe thead th {\n",
       "        text-align: right;\n",
       "    }\n",
       "</style>\n",
       "<table border=\"1\" class=\"dataframe\">\n",
       "  <thead>\n",
       "    <tr style=\"text-align: right;\">\n",
       "      <th></th>\n",
       "      <th>id</th>\n",
       "      <th>label</th>\n",
       "      <th>prediction_top</th>\n",
       "      <th>confidence_top</th>\n",
       "      <th>predictions_all</th>\n",
       "      <th>ID</th>\n",
       "      <th>Species</th>\n",
       "    </tr>\n",
       "  </thead>\n",
       "  <tbody>\n",
       "    <tr>\n",
       "      <th>2</th>\n",
       "      <td>ASG0000fb2</td>\n",
       "      <td>species</td>\n",
       "      <td>lionmale</td>\n",
       "      <td>0.2551</td>\n",
       "      <td>{'zebra': '0.0029', 'jackal': '0.0000', 'kudu'...</td>\n",
       "      <td>22843</td>\n",
       "      <td>lionFemale</td>\n",
       "    </tr>\n",
       "    <tr>\n",
       "      <th>10</th>\n",
       "      <td>ASG0002rzd</td>\n",
       "      <td>species</td>\n",
       "      <td>gazellethomsons</td>\n",
       "      <td>0.8063</td>\n",
       "      <td>{'zebra': '0.0000', 'jackal': '0.0011', 'kudu'...</td>\n",
       "      <td>1350</td>\n",
       "      <td>lionFemale</td>\n",
       "    </tr>\n",
       "    <tr>\n",
       "      <th>18</th>\n",
       "      <td>ASG0000pxf</td>\n",
       "      <td>species</td>\n",
       "      <td>lionfemale</td>\n",
       "      <td>0.8856</td>\n",
       "      <td>{'zebra': '0.0000', 'jackal': '0.0000', 'kudu'...</td>\n",
       "      <td>6498</td>\n",
       "      <td>lionFemale</td>\n",
       "    </tr>\n",
       "    <tr>\n",
       "      <th>26</th>\n",
       "      <td>ASG0002e9o</td>\n",
       "      <td>species</td>\n",
       "      <td>lionfemale</td>\n",
       "      <td>0.7617</td>\n",
       "      <td>{'zebra': '0.0006', 'jackal': '0.0019', 'kudu'...</td>\n",
       "      <td>17183</td>\n",
       "      <td>lionFemale</td>\n",
       "    </tr>\n",
       "    <tr>\n",
       "      <th>34</th>\n",
       "      <td>ASG0000stj</td>\n",
       "      <td>species</td>\n",
       "      <td>lionfemale</td>\n",
       "      <td>0.9992</td>\n",
       "      <td>{'zebra': '0.0000', 'jackal': '0.0000', 'kudu'...</td>\n",
       "      <td>8632</td>\n",
       "      <td>lionFemale</td>\n",
       "    </tr>\n",
       "  </tbody>\n",
       "</table>\n",
       "</div>"
      ],
      "text/plain": [
       "            id    label   prediction_top  confidence_top  \\\n",
       "2   ASG0000fb2  species         lionmale          0.2551   \n",
       "10  ASG0002rzd  species  gazellethomsons          0.8063   \n",
       "18  ASG0000pxf  species       lionfemale          0.8856   \n",
       "26  ASG0002e9o  species       lionfemale          0.7617   \n",
       "34  ASG0000stj  species       lionfemale          0.9992   \n",
       "\n",
       "                                      predictions_all     ID     Species  \n",
       "2   {'zebra': '0.0029', 'jackal': '0.0000', 'kudu'...  22843  lionFemale  \n",
       "10  {'zebra': '0.0000', 'jackal': '0.0011', 'kudu'...   1350  lionFemale  \n",
       "18  {'zebra': '0.0000', 'jackal': '0.0000', 'kudu'...   6498  lionFemale  \n",
       "26  {'zebra': '0.0006', 'jackal': '0.0019', 'kudu'...  17183  lionFemale  \n",
       "34  {'zebra': '0.0000', 'jackal': '0.0000', 'kudu'...   8632  lionFemale  "
      ]
     },
     "execution_count": 4,
     "metadata": {},
     "output_type": "execute_result"
    }
   ],
   "source": [
    "df.head()"
   ]
  },
  {
   "cell_type": "code",
   "execution_count": 5,
   "metadata": {},
   "outputs": [
    {
     "data": {
      "text/plain": [
       "lionfemale         2704\n",
       "lionmale            468\n",
       "hyenaspotted        213\n",
       "gazellethomsons     132\n",
       "wildebeest          112\n",
       "hartebeest          111\n",
       "zebra                88\n",
       "otherbird            71\n",
       "warthog              41\n",
       "guineafowl           29\n",
       "cheetah              26\n",
       "gazellegrants        24\n",
       "reedbuck             20\n",
       "buffalo              20\n",
       "eland                18\n",
       "impala               16\n",
       "human                16\n",
       "elephant             14\n",
       "hippopotamus         14\n",
       "jackal                7\n",
       "serval                5\n",
       "secretarybird         5\n",
       "giraffe               3\n",
       "aardvark              3\n",
       "dikdik                3\n",
       "batearedfox           3\n",
       "leopard               2\n",
       "topi                  2\n",
       "reptiles              2\n",
       "baboon                2\n",
       "porcupine             1\n",
       "koribustard           1\n",
       "waterbuck             1\n",
       "Name: prediction_top, dtype: int64"
      ]
     },
     "execution_count": 5,
     "metadata": {},
     "output_type": "execute_result"
    }
   ],
   "source": [
    "df.prediction_top.value_counts()"
   ]
  },
  {
   "cell_type": "code",
   "execution_count": 7,
   "metadata": {},
   "outputs": [
    {
     "data": {
      "text/plain": [
       "<matplotlib.axes._subplots.AxesSubplot at 0x17d16396c18>"
      ]
     },
     "execution_count": 7,
     "metadata": {},
     "output_type": "execute_result"
    },
    {
     "data": {
      "image/png": "[encoded data removed]",
      "text/plain": [
       "<Figure size 432x288 with 1 Axes>"
      ]
     },
     "metadata": {},
     "output_type": "display_data"
    }
   ],
   "source": [
    "df.prediction_top.value_counts().plot.bar(title='prediction count')"
   ]
  },
  {
   "cell_type": "code",
   "execution_count": 8,
   "metadata": {},
   "outputs": [
    {
     "data": {
      "text/plain": [
       "count    4177.000000\n",
       "mean        0.745561\n",
       "std         0.244769\n",
       "min         0.119800\n",
       "25%         0.541800\n",
       "50%         0.836600\n",
       "75%         0.964900\n",
       "max         0.999900\n",
       "Name: confidence_top, dtype: float64"
      ]
     },
     "execution_count": 8,
     "metadata": {},
     "output_type": "execute_result"
    }
   ],
   "source": [
    "# a quick look at the 'confidence_top' data\n",
    "df['confidence_top'].describe()"
   ]
  },
  {
   "cell_type": "code",
   "execution_count": 9,
   "metadata": {},
   "outputs": [
    {
     "data": {
      "text/plain": [
       "<matplotlib.axes._subplots.AxesSubplot at 0x17d17796fd0>"
      ]
     },
     "execution_count": 9,
     "metadata": {},
     "output_type": "execute_result"
    },
    {
     "data": {
      "image/png": "[encoded data removed]",
      "text/plain": [
       "<Figure size 432x288 with 1 Axes>"
      ]
     },
     "metadata": {},
     "output_type": "display_data"
    }
   ],
   "source": [
    "df.boxplot(column='confidence_top', showfliers=False)"
   ]
  },
  {
   "cell_type": "code",
   "execution_count": 11,
   "metadata": {},
   "outputs": [
    {
     "data": {
      "text/html": [
       "<div>\n",
       "<style scoped>\n",
       "    .dataframe tbody tr th:only-of-type {\n",
       "        vertical-align: middle;\n",
       "    }\n",
       "\n",
       "    .dataframe tbody tr th {\n",
       "        vertical-align: top;\n",
       "    }\n",
       "\n",
       "    .dataframe thead th {\n",
       "        text-align: right;\n",
       "    }\n",
       "</style>\n",
       "<table border=\"1\" class=\"dataframe\">\n",
       "  <thead>\n",
       "    <tr style=\"text-align: right;\">\n",
       "      <th></th>\n",
       "      <th>id</th>\n",
       "      <th>label</th>\n",
       "      <th>prediction_top</th>\n",
       "      <th>confidence_top</th>\n",
       "      <th>predictions_all</th>\n",
       "      <th>ID</th>\n",
       "      <th>Species</th>\n",
       "    </tr>\n",
       "  </thead>\n",
       "  <tbody>\n",
       "    <tr>\n",
       "      <th>18</th>\n",
       "      <td>ASG0000pxf</td>\n",
       "      <td>species</td>\n",
       "      <td>lionfemale</td>\n",
       "      <td>0.8856</td>\n",
       "      <td>{'zebra': '0.0000', 'jackal': '0.0000', 'kudu'...</td>\n",
       "      <td>6498</td>\n",
       "      <td>lionFemale</td>\n",
       "    </tr>\n",
       "    <tr>\n",
       "      <th>26</th>\n",
       "      <td>ASG0002e9o</td>\n",
       "      <td>species</td>\n",
       "      <td>lionfemale</td>\n",
       "      <td>0.7617</td>\n",
       "      <td>{'zebra': '0.0006', 'jackal': '0.0019', 'kudu'...</td>\n",
       "      <td>17183</td>\n",
       "      <td>lionFemale</td>\n",
       "    </tr>\n",
       "    <tr>\n",
       "      <th>34</th>\n",
       "      <td>ASG0000stj</td>\n",
       "      <td>species</td>\n",
       "      <td>lionfemale</td>\n",
       "      <td>0.9992</td>\n",
       "      <td>{'zebra': '0.0000', 'jackal': '0.0000', 'kudu'...</td>\n",
       "      <td>8632</td>\n",
       "      <td>lionFemale</td>\n",
       "    </tr>\n",
       "    <tr>\n",
       "      <th>42</th>\n",
       "      <td>ASG00025cf</td>\n",
       "      <td>species</td>\n",
       "      <td>lionfemale</td>\n",
       "      <td>0.9251</td>\n",
       "      <td>{'zebra': '0.0027', 'jackal': '0.0028', 'kudu'...</td>\n",
       "      <td>22563</td>\n",
       "      <td>lionFemale</td>\n",
       "    </tr>\n",
       "    <tr>\n",
       "      <th>58</th>\n",
       "      <td>ASG0000afb</td>\n",
       "      <td>species</td>\n",
       "      <td>lionfemale</td>\n",
       "      <td>0.8000</td>\n",
       "      <td>{'zebra': '0.0000', 'jackal': '0.0022', 'kudu'...</td>\n",
       "      <td>20916</td>\n",
       "      <td>lionFemale</td>\n",
       "    </tr>\n",
       "  </tbody>\n",
       "</table>\n",
       "</div>"
      ],
      "text/plain": [
       "            id    label prediction_top  confidence_top  \\\n",
       "18  ASG0000pxf  species     lionfemale          0.8856   \n",
       "26  ASG0002e9o  species     lionfemale          0.7617   \n",
       "34  ASG0000stj  species     lionfemale          0.9992   \n",
       "42  ASG00025cf  species     lionfemale          0.9251   \n",
       "58  ASG0000afb  species     lionfemale          0.8000   \n",
       "\n",
       "                                      predictions_all     ID     Species  \n",
       "18  {'zebra': '0.0000', 'jackal': '0.0000', 'kudu'...   6498  lionFemale  \n",
       "26  {'zebra': '0.0006', 'jackal': '0.0019', 'kudu'...  17183  lionFemale  \n",
       "34  {'zebra': '0.0000', 'jackal': '0.0000', 'kudu'...   8632  lionFemale  \n",
       "42  {'zebra': '0.0027', 'jackal': '0.0028', 'kudu'...  22563  lionFemale  \n",
       "58  {'zebra': '0.0000', 'jackal': '0.0022', 'kudu'...  20916  lionFemale  "
      ]
     },
     "execution_count": 11,
     "metadata": {},
     "output_type": "execute_result"
    }
   ],
   "source": [
    "# create a new data frame that only contains 'lionfemale' as top prediction\n",
    "lfdf = df[df.prediction_top=='lionfemale']\n",
    "lfdf.head()"
   ]
  },
  {
   "cell_type": "code",
   "execution_count": 13,
   "metadata": {},
   "outputs": [
    {
     "data": {
      "text/plain": [
       "count    2704.000000\n",
       "mean        0.826531\n",
       "std         0.197792\n",
       "min         0.151700\n",
       "25%         0.721800\n",
       "50%         0.917150\n",
       "75%         0.978200\n",
       "max         0.999900\n",
       "Name: confidence_top, dtype: float64"
      ]
     },
     "execution_count": 13,
     "metadata": {},
     "output_type": "execute_result"
    }
   ],
   "source": [
    "# a quick look at the 'confidence_top' of lionfemale ONLY predictions.\n",
    "lfdf['confidence_top'].describe()"
   ]
  },
  {
   "cell_type": "code",
   "execution_count": 16,
   "metadata": {},
   "outputs": [
    {
     "data": {
      "text/plain": [
       "<matplotlib.axes._subplots.AxesSubplot at 0x17d17aaf208>"
      ]
     },
     "execution_count": 16,
     "metadata": {},
     "output_type": "execute_result"
    },
    {
     "data": {
      "image/png": "[encoded data removed]",
      "text/plain": [
       "<Figure size 432x288 with 1 Axes>"
      ]
     },
     "metadata": {},
     "output_type": "display_data"
    }
   ],
   "source": [
    "lfdf.boxplot(column='confidence_top', showfliers=False)"
   ]
  },
  {
   "cell_type": "code",
   "execution_count": 17,
   "metadata": {},
   "outputs": [
    {
     "data": {
      "text/html": [
       "<div>\n",
       "<style scoped>\n",
       "    .dataframe tbody tr th:only-of-type {\n",
       "        vertical-align: middle;\n",
       "    }\n",
       "\n",
       "    .dataframe tbody tr th {\n",
       "        vertical-align: top;\n",
       "    }\n",
       "\n",
       "    .dataframe thead th {\n",
       "        text-align: right;\n",
       "    }\n",
       "</style>\n",
       "<table border=\"1\" class=\"dataframe\">\n",
       "  <thead>\n",
       "    <tr style=\"text-align: right;\">\n",
       "      <th></th>\n",
       "      <th>id</th>\n",
       "      <th>label</th>\n",
       "      <th>prediction_top</th>\n",
       "      <th>confidence_top</th>\n",
       "      <th>predictions_all</th>\n",
       "      <th>ID</th>\n",
       "      <th>Species</th>\n",
       "    </tr>\n",
       "  </thead>\n",
       "  <tbody>\n",
       "    <tr>\n",
       "      <th>2</th>\n",
       "      <td>ASG0000fb2</td>\n",
       "      <td>species</td>\n",
       "      <td>lionmale</td>\n",
       "      <td>0.2551</td>\n",
       "      <td>{'zebra': '0.0029', 'jackal': '0.0000', 'kudu'...</td>\n",
       "      <td>22843</td>\n",
       "      <td>lionFemale</td>\n",
       "    </tr>\n",
       "    <tr>\n",
       "      <th>762</th>\n",
       "      <td>ASG0000f26</td>\n",
       "      <td>species</td>\n",
       "      <td>lionmale</td>\n",
       "      <td>0.4868</td>\n",
       "      <td>{'zebra': '0.0004', 'jackal': '0.0012', 'kudu'...</td>\n",
       "      <td>22421</td>\n",
       "      <td>lionFemale</td>\n",
       "    </tr>\n",
       "    <tr>\n",
       "      <th>1018</th>\n",
       "      <td>ASG0000svg</td>\n",
       "      <td>species</td>\n",
       "      <td>lionmale</td>\n",
       "      <td>0.5796</td>\n",
       "      <td>{'zebra': '0.0000', 'jackal': '0.0000', 'kudu'...</td>\n",
       "      <td>8678</td>\n",
       "      <td>lionFemale</td>\n",
       "    </tr>\n",
       "    <tr>\n",
       "      <th>1026</th>\n",
       "      <td>ASG0003urs</td>\n",
       "      <td>species</td>\n",
       "      <td>lionmale</td>\n",
       "      <td>0.4593</td>\n",
       "      <td>{'zebra': '0.0013', 'jackal': '0.0001', 'kudu'...</td>\n",
       "      <td>68968</td>\n",
       "      <td>lionFemale</td>\n",
       "    </tr>\n",
       "    <tr>\n",
       "      <th>1130</th>\n",
       "      <td>ASG0001i1g</td>\n",
       "      <td>species</td>\n",
       "      <td>lionmale</td>\n",
       "      <td>0.5940</td>\n",
       "      <td>{'zebra': '0.0000', 'jackal': '0.0000', 'kudu'...</td>\n",
       "      <td>18875</td>\n",
       "      <td>lionMale</td>\n",
       "    </tr>\n",
       "  </tbody>\n",
       "</table>\n",
       "</div>"
      ],
      "text/plain": [
       "              id    label prediction_top  confidence_top  \\\n",
       "2     ASG0000fb2  species       lionmale          0.2551   \n",
       "762   ASG0000f26  species       lionmale          0.4868   \n",
       "1018  ASG0000svg  species       lionmale          0.5796   \n",
       "1026  ASG0003urs  species       lionmale          0.4593   \n",
       "1130  ASG0001i1g  species       lionmale          0.5940   \n",
       "\n",
       "                                        predictions_all     ID     Species  \n",
       "2     {'zebra': '0.0029', 'jackal': '0.0000', 'kudu'...  22843  lionFemale  \n",
       "762   {'zebra': '0.0004', 'jackal': '0.0012', 'kudu'...  22421  lionFemale  \n",
       "1018  {'zebra': '0.0000', 'jackal': '0.0000', 'kudu'...   8678  lionFemale  \n",
       "1026  {'zebra': '0.0013', 'jackal': '0.0001', 'kudu'...  68968  lionFemale  \n",
       "1130  {'zebra': '0.0000', 'jackal': '0.0000', 'kudu'...  18875    lionMale  "
      ]
     },
     "execution_count": 17,
     "metadata": {},
     "output_type": "execute_result"
    }
   ],
   "source": [
    "# create a new data frame that only contains 'lionfemale' as top prediction\n",
    "lmdf = df[df.prediction_top=='lionmale']\n",
    "lmdf.head()"
   ]
  },
  {
   "cell_type": "code",
   "execution_count": 18,
   "metadata": {},
   "outputs": [
    {
     "data": {
      "text/plain": [
       "count    468.000000\n",
       "mean       0.786960\n",
       "std        0.209039\n",
       "min        0.129900\n",
       "25%        0.624175\n",
       "50%        0.858750\n",
       "75%        0.980350\n",
       "max        0.999800\n",
       "Name: confidence_top, dtype: float64"
      ]
     },
     "execution_count": 18,
     "metadata": {},
     "output_type": "execute_result"
    }
   ],
   "source": [
    "# a quick look at the 'confidence_top' of lionmale ONLY predictions.\n",
    "lmdf['confidence_top'].describe()"
   ]
  },
  {
   "cell_type": "code",
   "execution_count": 19,
   "metadata": {},
   "outputs": [
    {
     "data": {
      "text/plain": [
       "<matplotlib.axes._subplots.AxesSubplot at 0x17d17b00cf8>"
      ]
     },
     "execution_count": 19,
     "metadata": {},
     "output_type": "execute_result"
    },
    {
     "data": {
      "image/png": "[encoded data removed]",
      "text/plain": [
       "<Figure size 432x288 with 1 Axes>"
      ]
     },
     "metadata": {},
     "output_type": "display_data"
    }
   ],
   "source": [
    "lmdf.boxplot(column='confidence_top', showfliers=False)"
   ]
  },
  {
   "cell_type": "code",
   "execution_count": 20,
   "metadata": {},
   "outputs": [
    {
     "data": {
      "text/plain": [
       "0.7593966961934403"
      ]
     },
     "execution_count": 20,
     "metadata": {},
     "output_type": "execute_result"
    }
   ],
   "source": [
    "# what is the percentage of EXACT match to 'lionfemale' or 'lionmale' to the whole set.\n",
    "(len(lfdf) + len(lmdf))/float(len(df))"
   ]
  },
  {
   "cell_type": "code",
   "execution_count": null,
   "metadata": {},
   "outputs": [],
   "source": []
  }
 ],
 "metadata": {
  "kernelspec": {
   "display_name": "Python 3",
   "language": "python",
   "name": "python3"
  },
  "language_info": {
   "codemirror_mode": {
    "name": "ipython",
    "version": 3
   },
   "file_extension": ".py",
   "mimetype": "text/x-python",
   "name": "python",
   "nbconvert_exporter": "python",
   "pygments_lexer": "ipython3",
   "version": "3.6.5"
  }
 },
 "nbformat": 4,
 "nbformat_minor": 2
}
