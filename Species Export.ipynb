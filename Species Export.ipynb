{
 "cells": [
  {
   "cell_type": "code",
   "execution_count": 1,
   "metadata": {},
   "outputs": [
    {
     "name": "stderr",
     "output_type": "stream",
     "text": [
      "C:\\Anaconda3\\lib\\site-packages\\IPython\\core\\interactiveshell.py:2785: DtypeWarning: Columns (1,2,3,23,24) have mixed types. Specify dtype option on import or set low_memory=False.\n",
      "  interactivity=interactivity, compiler=compiler, result=result)\n"
     ]
    }
   ],
   "source": [
    "import os\n",
    "import pandas as pd\n",
    "# load up the CSV file as a DataFrame\n",
    "filename = os.path.join('Downloads','Consensus_Data_Serengeti.csv')\n",
    "df = pd.read_csv(filename)"
   ]
  },
  {
   "cell_type": "code",
   "execution_count": 2,
   "metadata": {},
   "outputs": [
    {
     "data": {
      "text/html": [
       "<div>\n",
       "<style scoped>\n",
       "    .dataframe tbody tr th:only-of-type {\n",
       "        vertical-align: middle;\n",
       "    }\n",
       "\n",
       "    .dataframe tbody tr th {\n",
       "        vertical-align: top;\n",
       "    }\n",
       "\n",
       "    .dataframe thead th {\n",
       "        text-align: right;\n",
       "    }\n",
       "</style>\n",
       "<table border=\"1\" class=\"dataframe\">\n",
       "  <thead>\n",
       "    <tr style=\"text-align: right;\">\n",
       "      <th></th>\n",
       "      <th>EXPERT</th>\n",
       "      <th>EXPERT ID</th>\n",
       "      <th>REVISED SP</th>\n",
       "      <th>REVISED COUNT</th>\n",
       "      <th>CaptureEventID</th>\n",
       "      <th>NumImages</th>\n",
       "      <th>DateTime</th>\n",
       "      <th>SiteID</th>\n",
       "      <th>LocationX</th>\n",
       "      <th>LocationY</th>\n",
       "      <th>...</th>\n",
       "      <th>Moving</th>\n",
       "      <th>Eating</th>\n",
       "      <th>Interacting</th>\n",
       "      <th>Babies</th>\n",
       "      <th>NumClassifications</th>\n",
       "      <th>NumVotes</th>\n",
       "      <th>NumBlanks</th>\n",
       "      <th>Evenness</th>\n",
       "      <th>Unnamed: 23</th>\n",
       "      <th>Unnamed: 24</th>\n",
       "    </tr>\n",
       "  </thead>\n",
       "  <tbody>\n",
       "    <tr>\n",
       "      <th>0</th>\n",
       "      <td>NaN</td>\n",
       "      <td>NaN</td>\n",
       "      <td>NaN</td>\n",
       "      <td>NaN</td>\n",
       "      <td>ASG00001la</td>\n",
       "      <td>3</td>\n",
       "      <td>8/9/10 21:59</td>\n",
       "      <td>E06</td>\n",
       "      <td>701572</td>\n",
       "      <td>9724921</td>\n",
       "      <td>...</td>\n",
       "      <td>0.375000</td>\n",
       "      <td>0.500000</td>\n",
       "      <td>0.0</td>\n",
       "      <td>0.0</td>\n",
       "      <td>25</td>\n",
       "      <td>16</td>\n",
       "      <td>1</td>\n",
       "      <td>0.633217</td>\n",
       "      <td>NaN</td>\n",
       "      <td>NaN</td>\n",
       "    </tr>\n",
       "    <tr>\n",
       "      <th>1</th>\n",
       "      <td>NaN</td>\n",
       "      <td>NaN</td>\n",
       "      <td>NaN</td>\n",
       "      <td>NaN</td>\n",
       "      <td>ASG0000wp8</td>\n",
       "      <td>3</td>\n",
       "      <td>8/23/10 01:29</td>\n",
       "      <td>G06</td>\n",
       "      <td>706219</td>\n",
       "      <td>9724968</td>\n",
       "      <td>...</td>\n",
       "      <td>0.941176</td>\n",
       "      <td>0.000000</td>\n",
       "      <td>0.0</td>\n",
       "      <td>0.0</td>\n",
       "      <td>29</td>\n",
       "      <td>17</td>\n",
       "      <td>4</td>\n",
       "      <td>0.616715</td>\n",
       "      <td>NaN</td>\n",
       "      <td>NaN</td>\n",
       "    </tr>\n",
       "    <tr>\n",
       "      <th>2</th>\n",
       "      <td>NaN</td>\n",
       "      <td>NaN</td>\n",
       "      <td>NaN</td>\n",
       "      <td>NaN</td>\n",
       "      <td>ASG0002ua5</td>\n",
       "      <td>3</td>\n",
       "      <td>8/28/10 10:59</td>\n",
       "      <td>D03</td>\n",
       "      <td>699427</td>\n",
       "      <td>9731593</td>\n",
       "      <td>...</td>\n",
       "      <td>0.000000</td>\n",
       "      <td>0.571429</td>\n",
       "      <td>0.0</td>\n",
       "      <td>0.0</td>\n",
       "      <td>25</td>\n",
       "      <td>7</td>\n",
       "      <td>7</td>\n",
       "      <td>0.814484</td>\n",
       "      <td>NaN</td>\n",
       "      <td>NaN</td>\n",
       "    </tr>\n",
       "    <tr>\n",
       "      <th>3</th>\n",
       "      <td>NaN</td>\n",
       "      <td>NaN</td>\n",
       "      <td>NaN</td>\n",
       "      <td>NaN</td>\n",
       "      <td>ASG00004tf</td>\n",
       "      <td>3</td>\n",
       "      <td>9/1/10 04:45</td>\n",
       "      <td>G04</td>\n",
       "      <td>706134</td>\n",
       "      <td>9729292</td>\n",
       "      <td>...</td>\n",
       "      <td>1.000000</td>\n",
       "      <td>0.000000</td>\n",
       "      <td>0.0</td>\n",
       "      <td>0.0</td>\n",
       "      <td>25</td>\n",
       "      <td>7</td>\n",
       "      <td>5</td>\n",
       "      <td>0.808809</td>\n",
       "      <td>NaN</td>\n",
       "      <td>NaN</td>\n",
       "    </tr>\n",
       "    <tr>\n",
       "      <th>4</th>\n",
       "      <td>NaN</td>\n",
       "      <td>NaN</td>\n",
       "      <td>NaN</td>\n",
       "      <td>NaN</td>\n",
       "      <td>ASG0001uvv</td>\n",
       "      <td>3</td>\n",
       "      <td>9/5/10 01:21</td>\n",
       "      <td>M07</td>\n",
       "      <td>719250</td>\n",
       "      <td>9722427</td>\n",
       "      <td>...</td>\n",
       "      <td>1.000000</td>\n",
       "      <td>0.000000</td>\n",
       "      <td>0.0</td>\n",
       "      <td>0.0</td>\n",
       "      <td>24</td>\n",
       "      <td>13</td>\n",
       "      <td>8</td>\n",
       "      <td>0.696212</td>\n",
       "      <td>NaN</td>\n",
       "      <td>NaN</td>\n",
       "    </tr>\n",
       "  </tbody>\n",
       "</table>\n",
       "<p>5 rows × 25 columns</p>\n",
       "</div>"
      ],
      "text/plain": [
       "   EXPERT EXPERT ID REVISED SP REVISED COUNT CaptureEventID  NumImages  \\\n",
       "0     NaN       NaN        NaN           NaN     ASG00001la          3   \n",
       "1     NaN       NaN        NaN           NaN     ASG0000wp8          3   \n",
       "2     NaN       NaN        NaN           NaN     ASG0002ua5          3   \n",
       "3     NaN       NaN        NaN           NaN     ASG00004tf          3   \n",
       "4     NaN       NaN        NaN           NaN     ASG0001uvv          3   \n",
       "\n",
       "        DateTime SiteID  LocationX  LocationY     ...         Moving  \\\n",
       "0   8/9/10 21:59    E06     701572    9724921     ...       0.375000   \n",
       "1  8/23/10 01:29    G06     706219    9724968     ...       0.941176   \n",
       "2  8/28/10 10:59    D03     699427    9731593     ...       0.000000   \n",
       "3   9/1/10 04:45    G04     706134    9729292     ...       1.000000   \n",
       "4   9/5/10 01:21    M07     719250    9722427     ...       1.000000   \n",
       "\n",
       "     Eating Interacting  Babies  NumClassifications  NumVotes  NumBlanks  \\\n",
       "0  0.500000         0.0     0.0                  25        16          1   \n",
       "1  0.000000         0.0     0.0                  29        17          4   \n",
       "2  0.571429         0.0     0.0                  25         7          7   \n",
       "3  0.000000         0.0     0.0                  25         7          5   \n",
       "4  0.000000         0.0     0.0                  24        13          8   \n",
       "\n",
       "   Evenness  Unnamed: 23  Unnamed: 24  \n",
       "0  0.633217          NaN          NaN  \n",
       "1  0.616715          NaN          NaN  \n",
       "2  0.814484          NaN          NaN  \n",
       "3  0.808809          NaN          NaN  \n",
       "4  0.696212          NaN          NaN  \n",
       "\n",
       "[5 rows x 25 columns]"
      ]
     },
     "execution_count": 2,
     "metadata": {},
     "output_type": "execute_result"
    }
   ],
   "source": [
    "df.head()"
   ]
  },
  {
   "cell_type": "code",
   "execution_count": 4,
   "metadata": {},
   "outputs": [],
   "source": [
    "ard = df[df.Species=='aardvark']"
   ]
  },
  {
   "cell_type": "code",
   "execution_count": 5,
   "metadata": {},
   "outputs": [
    {
     "data": {
      "text/plain": [
       "386"
      ]
     },
     "execution_count": 5,
     "metadata": {},
     "output_type": "execute_result"
    }
   ],
   "source": [
    "len(ard)"
   ]
  },
  {
   "cell_type": "code",
   "execution_count": 6,
   "metadata": {},
   "outputs": [
    {
     "data": {
      "text/html": [
       "<div>\n",
       "<style scoped>\n",
       "    .dataframe tbody tr th:only-of-type {\n",
       "        vertical-align: middle;\n",
       "    }\n",
       "\n",
       "    .dataframe tbody tr th {\n",
       "        vertical-align: top;\n",
       "    }\n",
       "\n",
       "    .dataframe thead th {\n",
       "        text-align: right;\n",
       "    }\n",
       "</style>\n",
       "<table border=\"1\" class=\"dataframe\">\n",
       "  <thead>\n",
       "    <tr style=\"text-align: right;\">\n",
       "      <th></th>\n",
       "      <th>EXPERT</th>\n",
       "      <th>EXPERT ID</th>\n",
       "      <th>REVISED SP</th>\n",
       "      <th>REVISED COUNT</th>\n",
       "      <th>CaptureEventID</th>\n",
       "      <th>NumImages</th>\n",
       "      <th>DateTime</th>\n",
       "      <th>SiteID</th>\n",
       "      <th>LocationX</th>\n",
       "      <th>LocationY</th>\n",
       "      <th>...</th>\n",
       "      <th>Moving</th>\n",
       "      <th>Eating</th>\n",
       "      <th>Interacting</th>\n",
       "      <th>Babies</th>\n",
       "      <th>NumClassifications</th>\n",
       "      <th>NumVotes</th>\n",
       "      <th>NumBlanks</th>\n",
       "      <th>Evenness</th>\n",
       "      <th>Unnamed: 23</th>\n",
       "      <th>Unnamed: 24</th>\n",
       "    </tr>\n",
       "  </thead>\n",
       "  <tbody>\n",
       "    <tr>\n",
       "      <th>0</th>\n",
       "      <td>NaN</td>\n",
       "      <td>NaN</td>\n",
       "      <td>NaN</td>\n",
       "      <td>NaN</td>\n",
       "      <td>ASG00001la</td>\n",
       "      <td>3</td>\n",
       "      <td>8/9/10 21:59</td>\n",
       "      <td>E06</td>\n",
       "      <td>701572</td>\n",
       "      <td>9724921</td>\n",
       "      <td>...</td>\n",
       "      <td>0.375000</td>\n",
       "      <td>0.500000</td>\n",
       "      <td>0.0</td>\n",
       "      <td>0.0</td>\n",
       "      <td>25</td>\n",
       "      <td>16</td>\n",
       "      <td>1</td>\n",
       "      <td>0.633217</td>\n",
       "      <td>NaN</td>\n",
       "      <td>NaN</td>\n",
       "    </tr>\n",
       "    <tr>\n",
       "      <th>1</th>\n",
       "      <td>NaN</td>\n",
       "      <td>NaN</td>\n",
       "      <td>NaN</td>\n",
       "      <td>NaN</td>\n",
       "      <td>ASG0000wp8</td>\n",
       "      <td>3</td>\n",
       "      <td>8/23/10 01:29</td>\n",
       "      <td>G06</td>\n",
       "      <td>706219</td>\n",
       "      <td>9724968</td>\n",
       "      <td>...</td>\n",
       "      <td>0.941176</td>\n",
       "      <td>0.000000</td>\n",
       "      <td>0.0</td>\n",
       "      <td>0.0</td>\n",
       "      <td>29</td>\n",
       "      <td>17</td>\n",
       "      <td>4</td>\n",
       "      <td>0.616715</td>\n",
       "      <td>NaN</td>\n",
       "      <td>NaN</td>\n",
       "    </tr>\n",
       "    <tr>\n",
       "      <th>2</th>\n",
       "      <td>NaN</td>\n",
       "      <td>NaN</td>\n",
       "      <td>NaN</td>\n",
       "      <td>NaN</td>\n",
       "      <td>ASG0002ua5</td>\n",
       "      <td>3</td>\n",
       "      <td>8/28/10 10:59</td>\n",
       "      <td>D03</td>\n",
       "      <td>699427</td>\n",
       "      <td>9731593</td>\n",
       "      <td>...</td>\n",
       "      <td>0.000000</td>\n",
       "      <td>0.571429</td>\n",
       "      <td>0.0</td>\n",
       "      <td>0.0</td>\n",
       "      <td>25</td>\n",
       "      <td>7</td>\n",
       "      <td>7</td>\n",
       "      <td>0.814484</td>\n",
       "      <td>NaN</td>\n",
       "      <td>NaN</td>\n",
       "    </tr>\n",
       "    <tr>\n",
       "      <th>3</th>\n",
       "      <td>NaN</td>\n",
       "      <td>NaN</td>\n",
       "      <td>NaN</td>\n",
       "      <td>NaN</td>\n",
       "      <td>ASG00004tf</td>\n",
       "      <td>3</td>\n",
       "      <td>9/1/10 04:45</td>\n",
       "      <td>G04</td>\n",
       "      <td>706134</td>\n",
       "      <td>9729292</td>\n",
       "      <td>...</td>\n",
       "      <td>1.000000</td>\n",
       "      <td>0.000000</td>\n",
       "      <td>0.0</td>\n",
       "      <td>0.0</td>\n",
       "      <td>25</td>\n",
       "      <td>7</td>\n",
       "      <td>5</td>\n",
       "      <td>0.808809</td>\n",
       "      <td>NaN</td>\n",
       "      <td>NaN</td>\n",
       "    </tr>\n",
       "    <tr>\n",
       "      <th>4</th>\n",
       "      <td>NaN</td>\n",
       "      <td>NaN</td>\n",
       "      <td>NaN</td>\n",
       "      <td>NaN</td>\n",
       "      <td>ASG0001uvv</td>\n",
       "      <td>3</td>\n",
       "      <td>9/5/10 01:21</td>\n",
       "      <td>M07</td>\n",
       "      <td>719250</td>\n",
       "      <td>9722427</td>\n",
       "      <td>...</td>\n",
       "      <td>1.000000</td>\n",
       "      <td>0.000000</td>\n",
       "      <td>0.0</td>\n",
       "      <td>0.0</td>\n",
       "      <td>24</td>\n",
       "      <td>13</td>\n",
       "      <td>8</td>\n",
       "      <td>0.696212</td>\n",
       "      <td>NaN</td>\n",
       "      <td>NaN</td>\n",
       "    </tr>\n",
       "  </tbody>\n",
       "</table>\n",
       "<p>5 rows × 25 columns</p>\n",
       "</div>"
      ],
      "text/plain": [
       "   EXPERT EXPERT ID REVISED SP REVISED COUNT CaptureEventID  NumImages  \\\n",
       "0     NaN       NaN        NaN           NaN     ASG00001la          3   \n",
       "1     NaN       NaN        NaN           NaN     ASG0000wp8          3   \n",
       "2     NaN       NaN        NaN           NaN     ASG0002ua5          3   \n",
       "3     NaN       NaN        NaN           NaN     ASG00004tf          3   \n",
       "4     NaN       NaN        NaN           NaN     ASG0001uvv          3   \n",
       "\n",
       "        DateTime SiteID  LocationX  LocationY     ...         Moving  \\\n",
       "0   8/9/10 21:59    E06     701572    9724921     ...       0.375000   \n",
       "1  8/23/10 01:29    G06     706219    9724968     ...       0.941176   \n",
       "2  8/28/10 10:59    D03     699427    9731593     ...       0.000000   \n",
       "3   9/1/10 04:45    G04     706134    9729292     ...       1.000000   \n",
       "4   9/5/10 01:21    M07     719250    9722427     ...       1.000000   \n",
       "\n",
       "     Eating Interacting  Babies  NumClassifications  NumVotes  NumBlanks  \\\n",
       "0  0.500000         0.0     0.0                  25        16          1   \n",
       "1  0.000000         0.0     0.0                  29        17          4   \n",
       "2  0.571429         0.0     0.0                  25         7          7   \n",
       "3  0.000000         0.0     0.0                  25         7          5   \n",
       "4  0.000000         0.0     0.0                  24        13          8   \n",
       "\n",
       "   Evenness  Unnamed: 23  Unnamed: 24  \n",
       "0  0.633217          NaN          NaN  \n",
       "1  0.616715          NaN          NaN  \n",
       "2  0.814484          NaN          NaN  \n",
       "3  0.808809          NaN          NaN  \n",
       "4  0.696212          NaN          NaN  \n",
       "\n",
       "[5 rows x 25 columns]"
      ]
     },
     "execution_count": 6,
     "metadata": {},
     "output_type": "execute_result"
    }
   ],
   "source": [
    "ard.head()"
   ]
  },
  {
   "cell_type": "code",
   "execution_count": 7,
   "metadata": {},
   "outputs": [],
   "source": [
    "topi = df[df.Species=='topi']"
   ]
  },
  {
   "cell_type": "code",
   "execution_count": 8,
   "metadata": {},
   "outputs": [
    {
     "data": {
      "text/plain": [
       "2299"
      ]
     },
     "execution_count": 8,
     "metadata": {},
     "output_type": "execute_result"
    }
   ],
   "source": [
    "len(topi)"
   ]
  },
  {
   "cell_type": "code",
   "execution_count": 9,
   "metadata": {},
   "outputs": [
    {
     "data": {
      "text/plain": [
       "'Downloads\\\\Consensus_Data_Serengeti.csv'"
      ]
     },
     "execution_count": 9,
     "metadata": {},
     "output_type": "execute_result"
    }
   ],
   "source": [
    "filename"
   ]
  },
  {
   "cell_type": "code",
   "execution_count": 10,
   "metadata": {},
   "outputs": [],
   "source": [
    "elephant = df[df.Species=='elephant']"
   ]
  },
  {
   "cell_type": "code",
   "execution_count": 11,
   "metadata": {},
   "outputs": [
    {
     "data": {
      "text/plain": [
       "10178"
      ]
     },
     "execution_count": 11,
     "metadata": {},
     "output_type": "execute_result"
    }
   ],
   "source": [
    "len(elephant)"
   ]
  },
  {
   "cell_type": "code",
   "execution_count": 14,
   "metadata": {},
   "outputs": [],
   "source": [
    "elephant_filename = os.path.join('Downloads','elephant.csv')\n",
    "elephant.to_csv(elephant_filename)"
   ]
  },
  {
   "cell_type": "code",
   "execution_count": 15,
   "metadata": {},
   "outputs": [
    {
     "data": {
      "text/plain": [
       "I12    499\n",
       "L10    379\n",
       "I11    330\n",
       "K10    296\n",
       "F12    275\n",
       "B03    235\n",
       "H03    222\n",
       "L11    218\n",
       "O10    214\n",
       "F07    199\n",
       "E05    197\n",
       "C03    184\n",
       "G12    181\n",
       "J09    178\n",
       "H08    178\n",
       "L04    149\n",
       "C13    142\n",
       "D11    126\n",
       "I07    117\n",
       "G07    105\n",
       "E06    103\n",
       "C06    101\n",
       "J08     98\n",
       "M09     94\n",
       "G01     93\n",
       "H02     93\n",
       "G02     93\n",
       "D07     92\n",
       "L01     92\n",
       "B10     90\n",
       "      ... \n",
       "H05      7\n",
       "S11      7\n",
       "R07      6\n",
       "C05      6\n",
       "K06      6\n",
       "C08      6\n",
       "M05      5\n",
       "L08      5\n",
       "O12      4\n",
       "P06      4\n",
       "M11      4\n",
       "E11      3\n",
       "T12      3\n",
       "E10      3\n",
       "C07      3\n",
       "Q09      3\n",
       "R05      3\n",
       "N11      3\n",
       "H09      3\n",
       "F13      2\n",
       "P08      2\n",
       "N03      2\n",
       "K09      1\n",
       "N13      1\n",
       "T11      1\n",
       "P09      1\n",
       "U13      1\n",
       "G13      1\n",
       "H12      1\n",
       "Q13      1\n",
       "Name: SiteID, Length: 191, dtype: int64"
      ]
     },
     "execution_count": 15,
     "metadata": {},
     "output_type": "execute_result"
    }
   ],
   "source": [
    "elephant.SiteID.value_counts()"
   ]
  },
  {
   "cell_type": "code",
   "execution_count": 20,
   "metadata": {},
   "outputs": [
    {
     "data": {
      "text/plain": [
       "<matplotlib.axes._subplots.AxesSubplot at 0x1d6c8adb390>"
      ]
     },
     "execution_count": 20,
     "metadata": {},
     "output_type": "execute_result"
    },
    {
     "data": {
      "image/png": "[encoded data removed]",
      "text/plain": [
       "<Figure size 432x288 with 1 Axes>"
      ]
     },
     "metadata": {},
     "output_type": "display_data"
    }
   ],
   "source": [
    "elephant.SiteID.value_counts()[:20].plot.bar(title='top 20 elephant sites')"
   ]
  },
  {
   "cell_type": "code",
   "execution_count": 22,
   "metadata": {},
   "outputs": [
    {
     "data": {
      "text/plain": [
       "Text(0,0.5,'capture count')"
      ]
     },
     "execution_count": 22,
     "metadata": {},
     "output_type": "execute_result"
    },
    {
     "data": {
      "image/png": "[encoded data removed]",
      "text/plain": [
       "<Figure size 432x288 with 1 Axes>"
      ]
     },
     "metadata": {},
     "output_type": "display_data"
    }
   ],
   "source": [
    "ax = elephant.SiteID.value_counts()[:20].plot.bar(title='top 20 elephant sites')\n",
    "ax.set_ylabel(\"capture count\")"
   ]
  },
  {
   "cell_type": "code",
   "execution_count": null,
   "metadata": {},
   "outputs": [],
   "source": []
  }
 ],
 "metadata": {
  "kernelspec": {
   "display_name": "Python 3",
   "language": "python",
   "name": "python3"
  },
  "language_info": {
   "codemirror_mode": {
    "name": "ipython",
    "version": 3
   },
   "file_extension": ".py",
   "mimetype": "text/x-python",
   "name": "python",
   "nbconvert_exporter": "python",
   "pygments_lexer": "ipython3",
   "version": "3.6.5"
  }
 },
 "nbformat": 4,
 "nbformat_minor": 2
}
