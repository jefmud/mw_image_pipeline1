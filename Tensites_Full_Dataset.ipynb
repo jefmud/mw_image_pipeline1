{
  "nbformat": 4,
  "nbformat_minor": 0,
  "metadata": {
    "colab": {
      "name": "Tensites Full Dataset",
      "version": "0.3.2",
      "provenance": [],
      "include_colab_link": true
    },
    "kernelspec": {
      "name": "python3",
      "display_name": "Python 3"
    }
  },
  "cells": [
    {
      "cell_type": "markdown",
      "metadata": {
        "id": "view-in-github",
        "colab_type": "text"
      },
      "source": [
        "<a href=\"https://colab.research.google.com/github/jefmud/mw_image_pipeline1/blob/master/Tensites_Full_Dataset.ipynb\" target=\"_parent\"><img src=\"https://colab.research.google.com/assets/colab-badge.svg\" alt=\"Open In Colab\"/></a>"
      ]
    },
    {
      "cell_type": "code",
      "metadata": {
        "id": "B9PGaBUBVvMw",
        "colab_type": "code",
        "colab": {
          "base_uri": "https://localhost:8080/",
          "height": 204
        },
        "outputId": "94c98e54-d8fa-4797-8d06-f0aa66de74f8"
      },
      "source": [
        "import pandas as pd\n",
        "\n",
        "edf = pd.read_csv('http://muday.net/datasets/tensites/empty_output.csv')\n",
        "edf.head()"
      ],
      "execution_count": 1,
      "outputs": [
        {
          "output_type": "execute_result",
          "data": {
            "text/html": [
              "<div>\n",
              "<style scoped>\n",
              "    .dataframe tbody tr th:only-of-type {\n",
              "        vertical-align: middle;\n",
              "    }\n",
              "\n",
              "    .dataframe tbody tr th {\n",
              "        vertical-align: top;\n",
              "    }\n",
              "\n",
              "    .dataframe thead th {\n",
              "        text-align: right;\n",
              "    }\n",
              "</style>\n",
              "<table border=\"1\" class=\"dataframe\">\n",
              "  <thead>\n",
              "    <tr style=\"text-align: right;\">\n",
              "      <th></th>\n",
              "      <th>Unnamed: 0</th>\n",
              "      <th>id</th>\n",
              "      <th>label</th>\n",
              "      <th>prediction_top</th>\n",
              "      <th>confidence_top</th>\n",
              "      <th>predictions_all</th>\n",
              "    </tr>\n",
              "  </thead>\n",
              "  <tbody>\n",
              "    <tr>\n",
              "      <th>0</th>\n",
              "      <td>0</td>\n",
              "      <td>TOG_2#EK000434</td>\n",
              "      <td>empty</td>\n",
              "      <td>species</td>\n",
              "      <td>0.9959</td>\n",
              "      <td>{'empty': '0.0041', 'species': '0.9959'}</td>\n",
              "    </tr>\n",
              "    <tr>\n",
              "      <th>1</th>\n",
              "      <td>1</td>\n",
              "      <td>TOG_2#EK001365</td>\n",
              "      <td>empty</td>\n",
              "      <td>species</td>\n",
              "      <td>0.7692</td>\n",
              "      <td>{'empty': '0.2308', 'species': '0.7692'}</td>\n",
              "    </tr>\n",
              "    <tr>\n",
              "      <th>2</th>\n",
              "      <td>2</td>\n",
              "      <td>TOG_2#EK000780</td>\n",
              "      <td>empty</td>\n",
              "      <td>species</td>\n",
              "      <td>0.9766</td>\n",
              "      <td>{'empty': '0.0234', 'species': '0.9766'}</td>\n",
              "    </tr>\n",
              "    <tr>\n",
              "      <th>3</th>\n",
              "      <td>3</td>\n",
              "      <td>TOG_2#EK000809</td>\n",
              "      <td>empty</td>\n",
              "      <td>empty</td>\n",
              "      <td>0.7004</td>\n",
              "      <td>{'empty': '0.7004', 'species': '0.2996'}</td>\n",
              "    </tr>\n",
              "    <tr>\n",
              "      <th>4</th>\n",
              "      <td>4</td>\n",
              "      <td>TOG_2#EK000807</td>\n",
              "      <td>empty</td>\n",
              "      <td>species</td>\n",
              "      <td>0.6418</td>\n",
              "      <td>{'empty': '0.3582', 'species': '0.6418'}</td>\n",
              "    </tr>\n",
              "  </tbody>\n",
              "</table>\n",
              "</div>"
            ],
            "text/plain": [
              "   Unnamed: 0  ...                           predictions_all\n",
              "0           0  ...  {'empty': '0.0041', 'species': '0.9959'}\n",
              "1           1  ...  {'empty': '0.2308', 'species': '0.7692'}\n",
              "2           2  ...  {'empty': '0.0234', 'species': '0.9766'}\n",
              "3           3  ...  {'empty': '0.7004', 'species': '0.2996'}\n",
              "4           4  ...  {'empty': '0.3582', 'species': '0.6418'}\n",
              "\n",
              "[5 rows x 6 columns]"
            ]
          },
          "metadata": {
            "tags": []
          },
          "execution_count": 1
        }
      ]
    },
    {
      "cell_type": "code",
      "metadata": {
        "id": "_zPCmkfnWWvh",
        "colab_type": "code",
        "colab": {
          "base_uri": "https://localhost:8080/",
          "height": 224
        },
        "outputId": "2e42b69c-5306-4f4a-c4c8-a80c94ec2743"
      },
      "source": [
        "# read the observations data frame\n",
        "odf = pd.read_csv('http://muday.net/datasets/tensites/observations.csv')\n",
        "\n",
        "# get rid of Unnamed column\n",
        "del odf['Unnamed: 0']\n",
        "\n",
        "# create an \"empty/species\" column called \"occupied\"\n",
        "# this will allow us to match up to the MWe model predictions\n",
        "odf['occupied_hi'] = odf.name.apply(lambda x : 'empty' if x=='NOTHING' else 'species')\n",
        "\n",
        "# rename the \"name\" column to \"species_hi\" (species, human id)\n",
        "odf = odf.rename(columns={'name':'species_hi'})\n",
        "\n",
        "odf.head()"
      ],
      "execution_count": 38,
      "outputs": [
        {
          "output_type": "execute_result",
          "data": {
            "text/html": [
              "<div>\n",
              "<style scoped>\n",
              "    .dataframe tbody tr th:only-of-type {\n",
              "        vertical-align: middle;\n",
              "    }\n",
              "\n",
              "    .dataframe tbody tr th {\n",
              "        vertical-align: top;\n",
              "    }\n",
              "\n",
              "    .dataframe thead th {\n",
              "        text-align: right;\n",
              "    }\n",
              "</style>\n",
              "<table border=\"1\" class=\"dataframe\">\n",
              "  <thead>\n",
              "    <tr style=\"text-align: right;\">\n",
              "      <th></th>\n",
              "      <th>id</th>\n",
              "      <th>image_id</th>\n",
              "      <th>species_id</th>\n",
              "      <th>count</th>\n",
              "      <th>base_url</th>\n",
              "      <th>pathname</th>\n",
              "      <th>url</th>\n",
              "      <th>species_hi</th>\n",
              "      <th>occupied_hi</th>\n",
              "    </tr>\n",
              "  </thead>\n",
              "  <tbody>\n",
              "    <tr>\n",
              "      <th>0</th>\n",
              "      <td>1</td>\n",
              "      <td>1</td>\n",
              "      <td>49</td>\n",
              "      <td>0</td>\n",
              "      <td>http://media.itg.wfu.edu/sites/</td>\n",
              "      <td>TAW_2/EK001529.JPG</td>\n",
              "      <td>http://media.itg.wfu.edu/sites/TAW_2/EK001529.JPG</td>\n",
              "      <td>NOTHING</td>\n",
              "      <td>empty</td>\n",
              "    </tr>\n",
              "    <tr>\n",
              "      <th>1</th>\n",
              "      <td>2</td>\n",
              "      <td>2</td>\n",
              "      <td>49</td>\n",
              "      <td>0</td>\n",
              "      <td>http://media.itg.wfu.edu/sites/</td>\n",
              "      <td>TAW_2/EK000665.JPG</td>\n",
              "      <td>http://media.itg.wfu.edu/sites/TAW_2/EK000665.JPG</td>\n",
              "      <td>NOTHING</td>\n",
              "      <td>empty</td>\n",
              "    </tr>\n",
              "    <tr>\n",
              "      <th>2</th>\n",
              "      <td>3</td>\n",
              "      <td>3</td>\n",
              "      <td>49</td>\n",
              "      <td>0</td>\n",
              "      <td>http://media.itg.wfu.edu/sites/</td>\n",
              "      <td>TAW_2/EK000213.JPG</td>\n",
              "      <td>http://media.itg.wfu.edu/sites/TAW_2/EK000213.JPG</td>\n",
              "      <td>NOTHING</td>\n",
              "      <td>empty</td>\n",
              "    </tr>\n",
              "    <tr>\n",
              "      <th>3</th>\n",
              "      <td>4</td>\n",
              "      <td>4</td>\n",
              "      <td>49</td>\n",
              "      <td>0</td>\n",
              "      <td>http://media.itg.wfu.edu/sites/</td>\n",
              "      <td>TAW_2/EK001473.JPG</td>\n",
              "      <td>http://media.itg.wfu.edu/sites/TAW_2/EK001473.JPG</td>\n",
              "      <td>NOTHING</td>\n",
              "      <td>empty</td>\n",
              "    </tr>\n",
              "    <tr>\n",
              "      <th>4</th>\n",
              "      <td>5</td>\n",
              "      <td>5</td>\n",
              "      <td>49</td>\n",
              "      <td>0</td>\n",
              "      <td>http://media.itg.wfu.edu/sites/</td>\n",
              "      <td>TAW_2/EK000152.JPG</td>\n",
              "      <td>http://media.itg.wfu.edu/sites/TAW_2/EK000152.JPG</td>\n",
              "      <td>NOTHING</td>\n",
              "      <td>empty</td>\n",
              "    </tr>\n",
              "  </tbody>\n",
              "</table>\n",
              "</div>"
            ],
            "text/plain": [
              "   id  image_id  ...  species_hi  occupied_hi\n",
              "0   1         1  ...     NOTHING        empty\n",
              "1   2         2  ...     NOTHING        empty\n",
              "2   3         3  ...     NOTHING        empty\n",
              "3   4         4  ...     NOTHING        empty\n",
              "4   5         5  ...     NOTHING        empty\n",
              "\n",
              "[5 rows x 9 columns]"
            ]
          },
          "metadata": {
            "tags": []
          },
          "execution_count": 38
        }
      ]
    },
    {
      "cell_type": "code",
      "metadata": {
        "id": "T4Kyuuafa-NI",
        "colab_type": "code",
        "colab": {
          "base_uri": "https://localhost:8080/",
          "height": 326
        },
        "outputId": "e00bae1c-14ae-4ccf-d761-ede68e70f972"
      },
      "source": [
        "# show ratio of species to occupied in observations\n",
        "odf.occupied_hi.value_counts().plot.bar(title=\"Human identified occupation of Tensites\")"
      ],
      "execution_count": 41,
      "outputs": [
        {
          "output_type": "execute_result",
          "data": {
            "text/plain": [
              "<matplotlib.axes._subplots.AxesSubplot at 0x7f859d2ede48>"
            ]
          },
          "metadata": {
            "tags": []
          },
          "execution_count": 41
        },
        {
          "output_type": "display_data",
          "data": {
            "image/png": "[encoded data removed]",
            "text/plain": [
              "<Figure size 432x288 with 1 Axes>"
            ]
          },
          "metadata": {
            "tags": []
          }
        }
      ]
    },
    {
      "cell_type": "code",
      "metadata": {
        "id": "eU-lRlH8cC2i",
        "colab_type": "code",
        "colab": {
          "base_uri": "https://localhost:8080/",
          "height": 85
        },
        "outputId": "4797c1fc-34de-4d80-d0dd-a11793b7d4f0"
      },
      "source": [
        "# show empty, species counts\n",
        "total_ids = odf.occupied_hi.count()\n",
        "total_empty = odf[odf.occupied_hi=='empty'].occupied_hi.count()\n",
        "ratio = float(total_empty)/total_ids\n",
        "print(\"Total identifications ==> \", total_ids)\n",
        "print(\"Empty identifications ==> \", total_empty)\n",
        "print(\"Empty percentage {}/{} ==> {}\".format(total_empty, total_ids, ratio))\n",
        "print(\"Species percentage ==>\", 1-ratio)"
      ],
      "execution_count": 43,
      "outputs": [
        {
          "output_type": "stream",
          "text": [
            "Total identifications ==>  63384\n",
            "Empty identifications ==>  53231\n",
            "Empty percentage 53231/63384 ==> 0.8398176195885397\n",
            "Species percentage ==> 0.16018238041146027\n"
          ],
          "name": "stdout"
        }
      ]
    },
    {
      "cell_type": "code",
      "metadata": {
        "id": "w-f88-DIXWE_",
        "colab_type": "code",
        "colab": {
          "base_uri": "https://localhost:8080/",
          "height": 375
        },
        "outputId": "cc365b99-ce3a-4970-b4d9-6bc21e00648a"
      },
      "source": [
        "# show species distribution\n",
        "species_only = odf[odf.occupied_hi=='species']\n",
        "species_only.species_hi.value_counts()[:10].plot.bar(title='Human identified species at TenSite cameras')"
      ],
      "execution_count": 47,
      "outputs": [
        {
          "output_type": "execute_result",
          "data": {
            "text/plain": [
              "<matplotlib.axes._subplots.AxesSubplot at 0x7f859d70e358>"
            ]
          },
          "metadata": {
            "tags": []
          },
          "execution_count": 47
        },
        {
          "output_type": "display_data",
          "data": {
            "image/png": "[encoded data removed]",
            "text/plain": [
              "<Figure size 432x288 with 1 Axes>"
            ]
          },
          "metadata": {
            "tags": []
          }
        }
      ]
    },
    {
      "cell_type": "code",
      "metadata": {
        "id": "aKiwbUJxV8gL",
        "colab_type": "code",
        "colab": {
          "base_uri": "https://localhost:8080/",
          "height": 479
        },
        "outputId": "ae092bb7-868b-4401-8572-ab90de3c52d1"
      },
      "source": [
        "# get the MWe and MWs combined data\n",
        "mwdf= pd.read_csv('http://muday.net/datasets/tensites/tensites_output.csv')\n",
        "del mwdf['Unnamed: 0']\n",
        "mwdf.head()"
      ],
      "execution_count": 45,
      "outputs": [
        {
          "output_type": "execute_result",
          "data": {
            "text/html": [
              "<div>\n",
              "<style scoped>\n",
              "    .dataframe tbody tr th:only-of-type {\n",
              "        vertical-align: middle;\n",
              "    }\n",
              "\n",
              "    .dataframe tbody tr th {\n",
              "        vertical-align: top;\n",
              "    }\n",
              "\n",
              "    .dataframe thead th {\n",
              "        text-align: right;\n",
              "    }\n",
              "</style>\n",
              "<table border=\"1\" class=\"dataframe\">\n",
              "  <thead>\n",
              "    <tr style=\"text-align: right;\">\n",
              "      <th></th>\n",
              "      <th>capture_id</th>\n",
              "      <th>label</th>\n",
              "      <th>prediction_top</th>\n",
              "      <th>confidence_top</th>\n",
              "      <th>predictions_all</th>\n",
              "      <th>occupied</th>\n",
              "      <th>confidence_occupied</th>\n",
              "      <th>url</th>\n",
              "      <th>site</th>\n",
              "    </tr>\n",
              "  </thead>\n",
              "  <tbody>\n",
              "    <tr>\n",
              "      <th>0</th>\n",
              "      <td>TOG_2#EK000434</td>\n",
              "      <td>species</td>\n",
              "      <td>gazellethomsons</td>\n",
              "      <td>0.9656</td>\n",
              "      <td>{'aardvark': '0.0000', 'aardwolf': '0.0001', '...</td>\n",
              "      <td>species</td>\n",
              "      <td>0.9959</td>\n",
              "      <td>http://media.itg.wfu.edu/sites/TOG_2/EK000434.JPG</td>\n",
              "      <td>TOG</td>\n",
              "    </tr>\n",
              "    <tr>\n",
              "      <th>1</th>\n",
              "      <td>TOG_2#EK001365</td>\n",
              "      <td>species</td>\n",
              "      <td>giraffe</td>\n",
              "      <td>0.1258</td>\n",
              "      <td>{'aardvark': '0.0004', 'aardwolf': '0.0005', '...</td>\n",
              "      <td>species</td>\n",
              "      <td>0.7692</td>\n",
              "      <td>http://media.itg.wfu.edu/sites/TOG_2/EK001365.JPG</td>\n",
              "      <td>TOG</td>\n",
              "    </tr>\n",
              "    <tr>\n",
              "      <th>2</th>\n",
              "      <td>TOG_2#EK000780</td>\n",
              "      <td>species</td>\n",
              "      <td>gazellethomsons</td>\n",
              "      <td>0.2123</td>\n",
              "      <td>{'aardvark': '0.0007', 'aardwolf': '0.0005', '...</td>\n",
              "      <td>species</td>\n",
              "      <td>0.9766</td>\n",
              "      <td>http://media.itg.wfu.edu/sites/TOG_2/EK000780.JPG</td>\n",
              "      <td>TOG</td>\n",
              "    </tr>\n",
              "    <tr>\n",
              "      <th>3</th>\n",
              "      <td>TOG_2#EK000809</td>\n",
              "      <td>species</td>\n",
              "      <td>impala</td>\n",
              "      <td>0.2378</td>\n",
              "      <td>{'aardvark': '0.0006', 'aardwolf': '0.0010', '...</td>\n",
              "      <td>empty</td>\n",
              "      <td>0.7004</td>\n",
              "      <td>http://media.itg.wfu.edu/sites/TOG_2/EK000809.JPG</td>\n",
              "      <td>TOG</td>\n",
              "    </tr>\n",
              "    <tr>\n",
              "      <th>4</th>\n",
              "      <td>TOG_2#EK000807</td>\n",
              "      <td>species</td>\n",
              "      <td>impala</td>\n",
              "      <td>0.4424</td>\n",
              "      <td>{'aardvark': '0.0002', 'aardwolf': '0.0003', '...</td>\n",
              "      <td>species</td>\n",
              "      <td>0.6418</td>\n",
              "      <td>http://media.itg.wfu.edu/sites/TOG_2/EK000807.JPG</td>\n",
              "      <td>TOG</td>\n",
              "    </tr>\n",
              "  </tbody>\n",
              "</table>\n",
              "</div>"
            ],
            "text/plain": [
              "       capture_id  ... site\n",
              "0  TOG_2#EK000434  ...  TOG\n",
              "1  TOG_2#EK001365  ...  TOG\n",
              "2  TOG_2#EK000780  ...  TOG\n",
              "3  TOG_2#EK000809  ...  TOG\n",
              "4  TOG_2#EK000807  ...  TOG\n",
              "\n",
              "[5 rows x 9 columns]"
            ]
          },
          "metadata": {
            "tags": []
          },
          "execution_count": 45
        }
      ]
    },
    {
      "cell_type": "code",
      "metadata": {
        "id": "TDsamQpogI5H",
        "colab_type": "code",
        "colab": {
          "base_uri": "https://localhost:8080/",
          "height": 479
        },
        "outputId": "f2403c2c-d949-427b-dab3-3f88db7d5a6c"
      },
      "source": [
        "# merge the datasets\n",
        "mdf = pd.merge(mwdf, odf, on=\"url\", how=\"inner\")\n",
        "mdf.head()"
      ],
      "execution_count": 46,
      "outputs": [
        {
          "output_type": "execute_result",
          "data": {
            "text/html": [
              "<div>\n",
              "<style scoped>\n",
              "    .dataframe tbody tr th:only-of-type {\n",
              "        vertical-align: middle;\n",
              "    }\n",
              "\n",
              "    .dataframe tbody tr th {\n",
              "        vertical-align: top;\n",
              "    }\n",
              "\n",
              "    .dataframe thead th {\n",
              "        text-align: right;\n",
              "    }\n",
              "</style>\n",
              "<table border=\"1\" class=\"dataframe\">\n",
              "  <thead>\n",
              "    <tr style=\"text-align: right;\">\n",
              "      <th></th>\n",
              "      <th>capture_id</th>\n",
              "      <th>label</th>\n",
              "      <th>prediction_top</th>\n",
              "      <th>confidence_top</th>\n",
              "      <th>predictions_all</th>\n",
              "      <th>occupied</th>\n",
              "      <th>confidence_occupied</th>\n",
              "      <th>url</th>\n",
              "      <th>site</th>\n",
              "      <th>id</th>\n",
              "      <th>image_id</th>\n",
              "      <th>species_id</th>\n",
              "      <th>count</th>\n",
              "      <th>base_url</th>\n",
              "      <th>pathname</th>\n",
              "      <th>species_hi</th>\n",
              "      <th>occupied_hi</th>\n",
              "    </tr>\n",
              "  </thead>\n",
              "  <tbody>\n",
              "    <tr>\n",
              "      <th>0</th>\n",
              "      <td>TOG_2#EK000434</td>\n",
              "      <td>species</td>\n",
              "      <td>gazellethomsons</td>\n",
              "      <td>0.9656</td>\n",
              "      <td>{'aardvark': '0.0000', 'aardwolf': '0.0001', '...</td>\n",
              "      <td>species</td>\n",
              "      <td>0.9959</td>\n",
              "      <td>http://media.itg.wfu.edu/sites/TOG_2/EK000434.JPG</td>\n",
              "      <td>TOG</td>\n",
              "      <td>17912</td>\n",
              "      <td>2712</td>\n",
              "      <td>25</td>\n",
              "      <td>2</td>\n",
              "      <td>http://media.itg.wfu.edu/sites/</td>\n",
              "      <td>TOG_2/EK000434.JPG</td>\n",
              "      <td>impala</td>\n",
              "      <td>species</td>\n",
              "    </tr>\n",
              "    <tr>\n",
              "      <th>1</th>\n",
              "      <td>TOG_2#EK001365</td>\n",
              "      <td>species</td>\n",
              "      <td>giraffe</td>\n",
              "      <td>0.1258</td>\n",
              "      <td>{'aardvark': '0.0004', 'aardwolf': '0.0005', '...</td>\n",
              "      <td>species</td>\n",
              "      <td>0.7692</td>\n",
              "      <td>http://media.itg.wfu.edu/sites/TOG_2/EK001365.JPG</td>\n",
              "      <td>TOG</td>\n",
              "      <td>15435</td>\n",
              "      <td>2408</td>\n",
              "      <td>49</td>\n",
              "      <td>0</td>\n",
              "      <td>http://media.itg.wfu.edu/sites/</td>\n",
              "      <td>TOG_2/EK001365.JPG</td>\n",
              "      <td>NOTHING</td>\n",
              "      <td>empty</td>\n",
              "    </tr>\n",
              "    <tr>\n",
              "      <th>2</th>\n",
              "      <td>TOG_2#EK000780</td>\n",
              "      <td>species</td>\n",
              "      <td>gazellethomsons</td>\n",
              "      <td>0.2123</td>\n",
              "      <td>{'aardvark': '0.0007', 'aardwolf': '0.0005', '...</td>\n",
              "      <td>species</td>\n",
              "      <td>0.9766</td>\n",
              "      <td>http://media.itg.wfu.edu/sites/TOG_2/EK000780.JPG</td>\n",
              "      <td>TOG</td>\n",
              "      <td>19240</td>\n",
              "      <td>3019</td>\n",
              "      <td>11</td>\n",
              "      <td>2</td>\n",
              "      <td>http://media.itg.wfu.edu/sites/</td>\n",
              "      <td>TOG_2/EK000780.JPG</td>\n",
              "      <td>eland</td>\n",
              "      <td>species</td>\n",
              "    </tr>\n",
              "    <tr>\n",
              "      <th>3</th>\n",
              "      <td>TOG_2#EK000809</td>\n",
              "      <td>species</td>\n",
              "      <td>impala</td>\n",
              "      <td>0.2378</td>\n",
              "      <td>{'aardvark': '0.0006', 'aardwolf': '0.0010', '...</td>\n",
              "      <td>empty</td>\n",
              "      <td>0.7004</td>\n",
              "      <td>http://media.itg.wfu.edu/sites/TOG_2/EK000809.JPG</td>\n",
              "      <td>TOG</td>\n",
              "      <td>8094</td>\n",
              "      <td>1758</td>\n",
              "      <td>49</td>\n",
              "      <td>0</td>\n",
              "      <td>http://media.itg.wfu.edu/sites/</td>\n",
              "      <td>TOG_2/EK000809.JPG</td>\n",
              "      <td>NOTHING</td>\n",
              "      <td>empty</td>\n",
              "    </tr>\n",
              "    <tr>\n",
              "      <th>4</th>\n",
              "      <td>TOG_2#EK000807</td>\n",
              "      <td>species</td>\n",
              "      <td>impala</td>\n",
              "      <td>0.4424</td>\n",
              "      <td>{'aardvark': '0.0002', 'aardwolf': '0.0003', '...</td>\n",
              "      <td>species</td>\n",
              "      <td>0.6418</td>\n",
              "      <td>http://media.itg.wfu.edu/sites/TOG_2/EK000807.JPG</td>\n",
              "      <td>TOG</td>\n",
              "      <td>10154</td>\n",
              "      <td>1893</td>\n",
              "      <td>49</td>\n",
              "      <td>0</td>\n",
              "      <td>http://media.itg.wfu.edu/sites/</td>\n",
              "      <td>TOG_2/EK000807.JPG</td>\n",
              "      <td>NOTHING</td>\n",
              "      <td>empty</td>\n",
              "    </tr>\n",
              "  </tbody>\n",
              "</table>\n",
              "</div>"
            ],
            "text/plain": [
              "       capture_id    label  ... species_hi  occupied_hi\n",
              "0  TOG_2#EK000434  species  ...     impala      species\n",
              "1  TOG_2#EK001365  species  ...    NOTHING        empty\n",
              "2  TOG_2#EK000780  species  ...      eland      species\n",
              "3  TOG_2#EK000809  species  ...    NOTHING        empty\n",
              "4  TOG_2#EK000807  species  ...    NOTHING        empty\n",
              "\n",
              "[5 rows x 17 columns]"
            ]
          },
          "metadata": {
            "tags": []
          },
          "execution_count": 46
        }
      ]
    },
    {
      "cell_type": "code",
      "metadata": {
        "id": "_g41Bd6zk2CG",
        "colab_type": "code",
        "colab": {
          "base_uri": "https://localhost:8080/",
          "height": 479
        },
        "outputId": "2596c381-bfbc-41d4-d1af-1b64ae34900f"
      },
      "source": [
        "# MWe/MWs \"occupied\" column matches with Human identified \"occupied_hi\" column\n",
        "matched_data = mdf[mdf.occupied==mdf.occupied_hi]\n",
        "matched_data.head()"
      ],
      "execution_count": 49,
      "outputs": [
        {
          "output_type": "execute_result",
          "data": {
            "text/html": [
              "<div>\n",
              "<style scoped>\n",
              "    .dataframe tbody tr th:only-of-type {\n",
              "        vertical-align: middle;\n",
              "    }\n",
              "\n",
              "    .dataframe tbody tr th {\n",
              "        vertical-align: top;\n",
              "    }\n",
              "\n",
              "    .dataframe thead th {\n",
              "        text-align: right;\n",
              "    }\n",
              "</style>\n",
              "<table border=\"1\" class=\"dataframe\">\n",
              "  <thead>\n",
              "    <tr style=\"text-align: right;\">\n",
              "      <th></th>\n",
              "      <th>capture_id</th>\n",
              "      <th>label</th>\n",
              "      <th>prediction_top</th>\n",
              "      <th>confidence_top</th>\n",
              "      <th>predictions_all</th>\n",
              "      <th>occupied</th>\n",
              "      <th>confidence_occupied</th>\n",
              "      <th>url</th>\n",
              "      <th>site</th>\n",
              "      <th>id</th>\n",
              "      <th>image_id</th>\n",
              "      <th>species_id</th>\n",
              "      <th>count</th>\n",
              "      <th>base_url</th>\n",
              "      <th>pathname</th>\n",
              "      <th>species_hi</th>\n",
              "      <th>occupied_hi</th>\n",
              "    </tr>\n",
              "  </thead>\n",
              "  <tbody>\n",
              "    <tr>\n",
              "      <th>0</th>\n",
              "      <td>TOG_2#EK000434</td>\n",
              "      <td>species</td>\n",
              "      <td>gazellethomsons</td>\n",
              "      <td>0.9656</td>\n",
              "      <td>{'aardvark': '0.0000', 'aardwolf': '0.0001', '...</td>\n",
              "      <td>species</td>\n",
              "      <td>0.9959</td>\n",
              "      <td>http://media.itg.wfu.edu/sites/TOG_2/EK000434.JPG</td>\n",
              "      <td>TOG</td>\n",
              "      <td>17912</td>\n",
              "      <td>2712</td>\n",
              "      <td>25</td>\n",
              "      <td>2</td>\n",
              "      <td>http://media.itg.wfu.edu/sites/</td>\n",
              "      <td>TOG_2/EK000434.JPG</td>\n",
              "      <td>impala</td>\n",
              "      <td>species</td>\n",
              "    </tr>\n",
              "    <tr>\n",
              "      <th>2</th>\n",
              "      <td>TOG_2#EK000780</td>\n",
              "      <td>species</td>\n",
              "      <td>gazellethomsons</td>\n",
              "      <td>0.2123</td>\n",
              "      <td>{'aardvark': '0.0007', 'aardwolf': '0.0005', '...</td>\n",
              "      <td>species</td>\n",
              "      <td>0.9766</td>\n",
              "      <td>http://media.itg.wfu.edu/sites/TOG_2/EK000780.JPG</td>\n",
              "      <td>TOG</td>\n",
              "      <td>19240</td>\n",
              "      <td>3019</td>\n",
              "      <td>11</td>\n",
              "      <td>2</td>\n",
              "      <td>http://media.itg.wfu.edu/sites/</td>\n",
              "      <td>TOG_2/EK000780.JPG</td>\n",
              "      <td>eland</td>\n",
              "      <td>species</td>\n",
              "    </tr>\n",
              "    <tr>\n",
              "      <th>3</th>\n",
              "      <td>TOG_2#EK000809</td>\n",
              "      <td>species</td>\n",
              "      <td>impala</td>\n",
              "      <td>0.2378</td>\n",
              "      <td>{'aardvark': '0.0006', 'aardwolf': '0.0010', '...</td>\n",
              "      <td>empty</td>\n",
              "      <td>0.7004</td>\n",
              "      <td>http://media.itg.wfu.edu/sites/TOG_2/EK000809.JPG</td>\n",
              "      <td>TOG</td>\n",
              "      <td>8094</td>\n",
              "      <td>1758</td>\n",
              "      <td>49</td>\n",
              "      <td>0</td>\n",
              "      <td>http://media.itg.wfu.edu/sites/</td>\n",
              "      <td>TOG_2/EK000809.JPG</td>\n",
              "      <td>NOTHING</td>\n",
              "      <td>empty</td>\n",
              "    </tr>\n",
              "    <tr>\n",
              "      <th>10</th>\n",
              "      <td>TOG_2#EK000632</td>\n",
              "      <td>species</td>\n",
              "      <td>gazellethomsons</td>\n",
              "      <td>0.3634</td>\n",
              "      <td>{'aardvark': '0.0051', 'aardwolf': '0.0096', '...</td>\n",
              "      <td>empty</td>\n",
              "      <td>0.5018</td>\n",
              "      <td>http://media.itg.wfu.edu/sites/TOG_2/EK000632.JPG</td>\n",
              "      <td>TOG</td>\n",
              "      <td>17875</td>\n",
              "      <td>2800</td>\n",
              "      <td>49</td>\n",
              "      <td>0</td>\n",
              "      <td>http://media.itg.wfu.edu/sites/</td>\n",
              "      <td>TOG_2/EK000632.JPG</td>\n",
              "      <td>NOTHING</td>\n",
              "      <td>empty</td>\n",
              "    </tr>\n",
              "    <tr>\n",
              "      <th>11</th>\n",
              "      <td>TOG_2#EK000825</td>\n",
              "      <td>species</td>\n",
              "      <td>wildebeest</td>\n",
              "      <td>0.3677</td>\n",
              "      <td>{'aardvark': '0.0022', 'aardwolf': '0.0045', '...</td>\n",
              "      <td>species</td>\n",
              "      <td>0.7392</td>\n",
              "      <td>http://media.itg.wfu.edu/sites/TOG_2/EK000825.JPG</td>\n",
              "      <td>TOG</td>\n",
              "      <td>17061</td>\n",
              "      <td>2564</td>\n",
              "      <td>46</td>\n",
              "      <td>9</td>\n",
              "      <td>http://media.itg.wfu.edu/sites/</td>\n",
              "      <td>TOG_2/EK000825.JPG</td>\n",
              "      <td>wildebeest</td>\n",
              "      <td>species</td>\n",
              "    </tr>\n",
              "  </tbody>\n",
              "</table>\n",
              "</div>"
            ],
            "text/plain": [
              "        capture_id    label  ...  species_hi  occupied_hi\n",
              "0   TOG_2#EK000434  species  ...      impala      species\n",
              "2   TOG_2#EK000780  species  ...       eland      species\n",
              "3   TOG_2#EK000809  species  ...     NOTHING        empty\n",
              "10  TOG_2#EK000632  species  ...     NOTHING        empty\n",
              "11  TOG_2#EK000825  species  ...  wildebeest      species\n",
              "\n",
              "[5 rows x 17 columns]"
            ]
          },
          "metadata": {
            "tags": []
          },
          "execution_count": 49
        }
      ]
    },
    {
      "cell_type": "code",
      "metadata": {
        "id": "jumRR-Jgo7IT",
        "colab_type": "code",
        "colab": {
          "base_uri": "https://localhost:8080/",
          "height": 68
        },
        "outputId": "3cecc03a-f223-47ff-866d-36421c33c215"
      },
      "source": [
        "# combined MWe MWs occupied identifications\n",
        "matches = matched_data.id.count()\n",
        "print(\"Total HUMAN ids ==> \", total_ids)\n",
        "print(\"MW matches HUMAN ids ==>\", matches)\n",
        "print(\"Percent matched ==>\", float(matches)/total_ids)"
      ],
      "execution_count": 53,
      "outputs": [
        {
          "output_type": "stream",
          "text": [
            "Total HUMAN ids ==>  63384\n",
            "MW matches HUMAN ids ==> 32779\n",
            "Percent matched ==> 0.5171494383440616\n"
          ],
          "name": "stdout"
        }
      ]
    },
    {
      "cell_type": "code",
      "metadata": {
        "id": "lK8u15mPqHKo",
        "colab_type": "code",
        "colab": {
          "base_uri": "https://localhost:8080/",
          "height": 51
        },
        "outputId": "0c96e5e9-8e47-4475-ecdb-fcab6d2f031b"
      },
      "source": [
        "# MWe only matches\n",
        "empty_matched_data = mdf[(mdf.occupied=='empty') & (mdf.occupied_hi=='empty')]\n",
        "matches = empty_matched_data.id.count()\n",
        "print(\"MWe and HUMAN matched on empty ==> \", matches)\n",
        "print(\"Percent matched ==> \", float(matches)/total_empty)"
      ],
      "execution_count": 56,
      "outputs": [
        {
          "output_type": "stream",
          "text": [
            "MWe and HUMAN matched on empty ==>  24223\n",
            "Percent matched ==>  0.45505438560237454\n"
          ],
          "name": "stdout"
        }
      ]
    },
    {
      "cell_type": "code",
      "metadata": {
        "id": "IryRr6D2rk4m",
        "colab_type": "code",
        "colab": {
          "base_uri": "https://localhost:8080/",
          "height": 51
        },
        "outputId": "13e3c8cb-c0eb-43ee-9ee1-53c2742dcfcf"
      },
      "source": [
        "# MWs matched\n",
        "species_occupied_matched_data = mdf[(mdf.occupied=='species') & (mdf.occupied_hi=='species')]\n",
        "matches = species_occupied_matched_data.id.count()\n",
        "print(\"MWs and HUMAN matched on species ==> \", matches)\n",
        "print(\"Percent matched ==> \", float(matches)/(total_ids - total_empty))"
      ],
      "execution_count": 59,
      "outputs": [
        {
          "output_type": "stream",
          "text": [
            "MWs and HUMAN matched on species ==>  8556\n",
            "Percent matched ==>  0.8427065891854624\n"
          ],
          "name": "stdout"
        }
      ]
    },
    {
      "cell_type": "code",
      "metadata": {
        "id": "1QrHDhXHsa-c",
        "colab_type": "code",
        "colab": {
          "base_uri": "https://localhost:8080/",
          "height": 479
        },
        "outputId": "98100799-af20-4815-ed9b-fb46de03e2e9"
      },
      "source": [
        "# actual identification matched\n",
        "species_only_hi = mdf[mdf.species_hi != 'NOTHING']\n",
        "species_prediction_matched_data = species_only_hi[species_only_hi.species_hi==species_only_hi.prediction_top]\n",
        "species_prediction_matched_data.head()"
      ],
      "execution_count": 61,
      "outputs": [
        {
          "output_type": "execute_result",
          "data": {
            "text/html": [
              "<div>\n",
              "<style scoped>\n",
              "    .dataframe tbody tr th:only-of-type {\n",
              "        vertical-align: middle;\n",
              "    }\n",
              "\n",
              "    .dataframe tbody tr th {\n",
              "        vertical-align: top;\n",
              "    }\n",
              "\n",
              "    .dataframe thead th {\n",
              "        text-align: right;\n",
              "    }\n",
              "</style>\n",
              "<table border=\"1\" class=\"dataframe\">\n",
              "  <thead>\n",
              "    <tr style=\"text-align: right;\">\n",
              "      <th></th>\n",
              "      <th>capture_id</th>\n",
              "      <th>label</th>\n",
              "      <th>prediction_top</th>\n",
              "      <th>confidence_top</th>\n",
              "      <th>predictions_all</th>\n",
              "      <th>occupied</th>\n",
              "      <th>confidence_occupied</th>\n",
              "      <th>url</th>\n",
              "      <th>site</th>\n",
              "      <th>id</th>\n",
              "      <th>image_id</th>\n",
              "      <th>species_id</th>\n",
              "      <th>count</th>\n",
              "      <th>base_url</th>\n",
              "      <th>pathname</th>\n",
              "      <th>species_hi</th>\n",
              "      <th>occupied_hi</th>\n",
              "    </tr>\n",
              "  </thead>\n",
              "  <tbody>\n",
              "    <tr>\n",
              "      <th>11</th>\n",
              "      <td>TOG_2#EK000825</td>\n",
              "      <td>species</td>\n",
              "      <td>wildebeest</td>\n",
              "      <td>0.3677</td>\n",
              "      <td>{'aardvark': '0.0022', 'aardwolf': '0.0045', '...</td>\n",
              "      <td>species</td>\n",
              "      <td>0.7392</td>\n",
              "      <td>http://media.itg.wfu.edu/sites/TOG_2/EK000825.JPG</td>\n",
              "      <td>TOG</td>\n",
              "      <td>17061</td>\n",
              "      <td>2564</td>\n",
              "      <td>46</td>\n",
              "      <td>9</td>\n",
              "      <td>http://media.itg.wfu.edu/sites/</td>\n",
              "      <td>TOG_2/EK000825.JPG</td>\n",
              "      <td>wildebeest</td>\n",
              "      <td>species</td>\n",
              "    </tr>\n",
              "    <tr>\n",
              "      <th>13</th>\n",
              "      <td>TOG_2#EK000642</td>\n",
              "      <td>species</td>\n",
              "      <td>zebra</td>\n",
              "      <td>0.9954</td>\n",
              "      <td>{'aardvark': '0.0000', 'aardwolf': '0.0000', '...</td>\n",
              "      <td>species</td>\n",
              "      <td>0.8590</td>\n",
              "      <td>http://media.itg.wfu.edu/sites/TOG_2/EK000642.JPG</td>\n",
              "      <td>TOG</td>\n",
              "      <td>14181</td>\n",
              "      <td>2264</td>\n",
              "      <td>47</td>\n",
              "      <td>1</td>\n",
              "      <td>http://media.itg.wfu.edu/sites/</td>\n",
              "      <td>TOG_2/EK000642.JPG</td>\n",
              "      <td>zebra</td>\n",
              "      <td>species</td>\n",
              "    </tr>\n",
              "    <tr>\n",
              "      <th>17</th>\n",
              "      <td>TOG_2#EK000519</td>\n",
              "      <td>species</td>\n",
              "      <td>wildebeest</td>\n",
              "      <td>0.9469</td>\n",
              "      <td>{'aardvark': '0.0000', 'aardwolf': '0.0000', '...</td>\n",
              "      <td>species</td>\n",
              "      <td>0.9958</td>\n",
              "      <td>http://media.itg.wfu.edu/sites/TOG_2/EK000519.JPG</td>\n",
              "      <td>TOG</td>\n",
              "      <td>17556</td>\n",
              "      <td>2655</td>\n",
              "      <td>46</td>\n",
              "      <td>11</td>\n",
              "      <td>http://media.itg.wfu.edu/sites/</td>\n",
              "      <td>TOG_2/EK000519.JPG</td>\n",
              "      <td>wildebeest</td>\n",
              "      <td>species</td>\n",
              "    </tr>\n",
              "    <tr>\n",
              "      <th>18</th>\n",
              "      <td>TOG_2#EK000519</td>\n",
              "      <td>species</td>\n",
              "      <td>wildebeest</td>\n",
              "      <td>0.9469</td>\n",
              "      <td>{'aardvark': '0.0000', 'aardwolf': '0.0000', '...</td>\n",
              "      <td>species</td>\n",
              "      <td>0.9958</td>\n",
              "      <td>http://media.itg.wfu.edu/sites/TOG_2/EK000519.JPG</td>\n",
              "      <td>TOG</td>\n",
              "      <td>17557</td>\n",
              "      <td>2655</td>\n",
              "      <td>46</td>\n",
              "      <td>11</td>\n",
              "      <td>http://media.itg.wfu.edu/sites/</td>\n",
              "      <td>TOG_2/EK000519.JPG</td>\n",
              "      <td>wildebeest</td>\n",
              "      <td>species</td>\n",
              "    </tr>\n",
              "    <tr>\n",
              "      <th>45</th>\n",
              "      <td>TOG_2#EK000744</td>\n",
              "      <td>species</td>\n",
              "      <td>zebra</td>\n",
              "      <td>0.5108</td>\n",
              "      <td>{'aardvark': '0.0000', 'aardwolf': '0.0001', '...</td>\n",
              "      <td>species</td>\n",
              "      <td>0.9105</td>\n",
              "      <td>http://media.itg.wfu.edu/sites/TOG_2/EK000744.JPG</td>\n",
              "      <td>TOG</td>\n",
              "      <td>6908</td>\n",
              "      <td>1684</td>\n",
              "      <td>47</td>\n",
              "      <td>4</td>\n",
              "      <td>http://media.itg.wfu.edu/sites/</td>\n",
              "      <td>TOG_2/EK000744.JPG</td>\n",
              "      <td>zebra</td>\n",
              "      <td>species</td>\n",
              "    </tr>\n",
              "  </tbody>\n",
              "</table>\n",
              "</div>"
            ],
            "text/plain": [
              "        capture_id    label  ...  species_hi  occupied_hi\n",
              "11  TOG_2#EK000825  species  ...  wildebeest      species\n",
              "13  TOG_2#EK000642  species  ...       zebra      species\n",
              "17  TOG_2#EK000519  species  ...  wildebeest      species\n",
              "18  TOG_2#EK000519  species  ...  wildebeest      species\n",
              "45  TOG_2#EK000744  species  ...       zebra      species\n",
              "\n",
              "[5 rows x 17 columns]"
            ]
          },
          "metadata": {
            "tags": []
          },
          "execution_count": 61
        }
      ]
    },
    {
      "cell_type": "code",
      "metadata": {
        "id": "ZjVRONipt7Qj",
        "colab_type": "code",
        "colab": {
          "base_uri": "https://localhost:8080/",
          "height": 68
        },
        "outputId": "469b1736-ae37-43b9-a77d-380321f672d8"
      },
      "source": [
        "matched = species_prediction_matched_data.id.count()\n",
        "species_hi_count = total_ids - total_empty\n",
        "print(\"MWs matched Human identification ==> \", matched)\n",
        "print(\"Total species identied by Humans ==> \", species_hi_count)\n",
        "print(\"Percentage matched ==> \", float(matched)/species_hi_count)"
      ],
      "execution_count": 65,
      "outputs": [
        {
          "output_type": "stream",
          "text": [
            "MWs matched Human identification ==>  3503\n",
            "Total species identied by Humans ==>  10153\n",
            "Percentage matched ==>  0.3450211760070915\n"
          ],
          "name": "stdout"
        }
      ]
    }
  ]
}