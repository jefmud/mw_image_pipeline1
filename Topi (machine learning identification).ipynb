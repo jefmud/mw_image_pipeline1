{
 "cells": [
  {
   "cell_type": "code",
   "execution_count": 1,
   "metadata": {},
   "outputs": [],
   "source": [
    "import os\n",
    "import pandas as pd"
   ]
  },
  {
   "cell_type": "code",
   "execution_count": 2,
   "metadata": {},
   "outputs": [],
   "source": [
    "# load up the CSV file as a DataFrame\n",
    "filename = os.path.join('Downloads','topi_output.csv')\n",
    "df = pd.read_csv(filename)"
   ]
  },
  {
   "cell_type": "code",
   "execution_count": 3,
   "metadata": {},
   "outputs": [
    {
     "data": {
      "text/html": [
       "<div>\n",
       "<style scoped>\n",
       "    .dataframe tbody tr th:only-of-type {\n",
       "        vertical-align: middle;\n",
       "    }\n",
       "\n",
       "    .dataframe tbody tr th {\n",
       "        vertical-align: top;\n",
       "    }\n",
       "\n",
       "    .dataframe thead th {\n",
       "        text-align: right;\n",
       "    }\n",
       "</style>\n",
       "<table border=\"1\" class=\"dataframe\">\n",
       "  <thead>\n",
       "    <tr style=\"text-align: right;\">\n",
       "      <th></th>\n",
       "      <th>id</th>\n",
       "      <th>label</th>\n",
       "      <th>prediction_top</th>\n",
       "      <th>confidence_top</th>\n",
       "      <th>predictions_all</th>\n",
       "      <th>Species</th>\n",
       "      <th>ID</th>\n",
       "    </tr>\n",
       "  </thead>\n",
       "  <tbody>\n",
       "    <tr>\n",
       "      <th>0</th>\n",
       "      <td>ASG0004sme</td>\n",
       "      <td>interacting</td>\n",
       "      <td>0</td>\n",
       "      <td>0.9989</td>\n",
       "      <td>{'1': '0.0011', '0': '0.9989'}</td>\n",
       "      <td>topi</td>\n",
       "      <td>51252</td>\n",
       "    </tr>\n",
       "    <tr>\n",
       "      <th>1</th>\n",
       "      <td>ASG0004sme</td>\n",
       "      <td>moving</td>\n",
       "      <td>0</td>\n",
       "      <td>0.9396</td>\n",
       "      <td>{'1': '0.0604', '0': '0.9396'}</td>\n",
       "      <td>topi</td>\n",
       "      <td>51252</td>\n",
       "    </tr>\n",
       "    <tr>\n",
       "      <th>2</th>\n",
       "      <td>ASG0004sme</td>\n",
       "      <td>standing</td>\n",
       "      <td>1</td>\n",
       "      <td>0.8958</td>\n",
       "      <td>{'1': '0.8958', '0': '0.1042'}</td>\n",
       "      <td>topi</td>\n",
       "      <td>51252</td>\n",
       "    </tr>\n",
       "    <tr>\n",
       "      <th>3</th>\n",
       "      <td>ASG0004sme</td>\n",
       "      <td>count</td>\n",
       "      <td>1</td>\n",
       "      <td>0.9092</td>\n",
       "      <td>{'9': '0.0001', '8': '0.0003', '2': '0.0729', ...</td>\n",
       "      <td>topi</td>\n",
       "      <td>51252</td>\n",
       "    </tr>\n",
       "    <tr>\n",
       "      <th>4</th>\n",
       "      <td>ASG0004sme</td>\n",
       "      <td>species</td>\n",
       "      <td>topi</td>\n",
       "      <td>0.9455</td>\n",
       "      <td>{'giraffe': '0.0000', 'sable': '0.0000', 'bate...</td>\n",
       "      <td>topi</td>\n",
       "      <td>51252</td>\n",
       "    </tr>\n",
       "    <tr>\n",
       "      <th>5</th>\n",
       "      <td>ASG0004sme</td>\n",
       "      <td>resting</td>\n",
       "      <td>0</td>\n",
       "      <td>0.9891</td>\n",
       "      <td>{'1': '0.0109', '0': '0.9891'}</td>\n",
       "      <td>topi</td>\n",
       "      <td>51252</td>\n",
       "    </tr>\n",
       "    <tr>\n",
       "      <th>6</th>\n",
       "      <td>ASG0004sme</td>\n",
       "      <td>babies</td>\n",
       "      <td>0</td>\n",
       "      <td>0.9987</td>\n",
       "      <td>{'1': '0.0013', '0': '0.9987'}</td>\n",
       "      <td>topi</td>\n",
       "      <td>51252</td>\n",
       "    </tr>\n",
       "    <tr>\n",
       "      <th>7</th>\n",
       "      <td>ASG0004sme</td>\n",
       "      <td>eating</td>\n",
       "      <td>0</td>\n",
       "      <td>0.8970</td>\n",
       "      <td>{'1': '0.1030', '0': '0.8970'}</td>\n",
       "      <td>topi</td>\n",
       "      <td>51252</td>\n",
       "    </tr>\n",
       "    <tr>\n",
       "      <th>8</th>\n",
       "      <td>ASG0004hr9</td>\n",
       "      <td>interacting</td>\n",
       "      <td>0</td>\n",
       "      <td>0.9615</td>\n",
       "      <td>{'1': '0.0385', '0': '0.9615'}</td>\n",
       "      <td>topi</td>\n",
       "      <td>45543</td>\n",
       "    </tr>\n",
       "    <tr>\n",
       "      <th>9</th>\n",
       "      <td>ASG0004hr9</td>\n",
       "      <td>moving</td>\n",
       "      <td>0</td>\n",
       "      <td>0.9951</td>\n",
       "      <td>{'1': '0.0049', '0': '0.9951'}</td>\n",
       "      <td>topi</td>\n",
       "      <td>45543</td>\n",
       "    </tr>\n",
       "  </tbody>\n",
       "</table>\n",
       "</div>"
      ],
      "text/plain": [
       "           id        label prediction_top  confidence_top  \\\n",
       "0  ASG0004sme  interacting              0          0.9989   \n",
       "1  ASG0004sme       moving              0          0.9396   \n",
       "2  ASG0004sme     standing              1          0.8958   \n",
       "3  ASG0004sme        count              1          0.9092   \n",
       "4  ASG0004sme      species           topi          0.9455   \n",
       "5  ASG0004sme      resting              0          0.9891   \n",
       "6  ASG0004sme       babies              0          0.9987   \n",
       "7  ASG0004sme       eating              0          0.8970   \n",
       "8  ASG0004hr9  interacting              0          0.9615   \n",
       "9  ASG0004hr9       moving              0          0.9951   \n",
       "\n",
       "                                     predictions_all Species     ID  \n",
       "0                     {'1': '0.0011', '0': '0.9989'}    topi  51252  \n",
       "1                     {'1': '0.0604', '0': '0.9396'}    topi  51252  \n",
       "2                     {'1': '0.8958', '0': '0.1042'}    topi  51252  \n",
       "3  {'9': '0.0001', '8': '0.0003', '2': '0.0729', ...    topi  51252  \n",
       "4  {'giraffe': '0.0000', 'sable': '0.0000', 'bate...    topi  51252  \n",
       "5                     {'1': '0.0109', '0': '0.9891'}    topi  51252  \n",
       "6                     {'1': '0.0013', '0': '0.9987'}    topi  51252  \n",
       "7                     {'1': '0.1030', '0': '0.8970'}    topi  51252  \n",
       "8                     {'1': '0.0385', '0': '0.9615'}    topi  45543  \n",
       "9                     {'1': '0.0049', '0': '0.9951'}    topi  45543  "
      ]
     },
     "execution_count": 3,
     "metadata": {},
     "output_type": "execute_result"
    }
   ],
   "source": [
    "# show first five to demonstrate what is in the file\n",
    "df.head(10)"
   ]
  },
  {
   "cell_type": "code",
   "execution_count": 4,
   "metadata": {},
   "outputs": [],
   "source": [
    "# filter the DataFrame to ONLY contain the species information\n",
    "df = df[df.label=='species']"
   ]
  },
  {
   "cell_type": "code",
   "execution_count": 5,
   "metadata": {},
   "outputs": [
    {
     "data": {
      "text/html": [
       "<div>\n",
       "<style scoped>\n",
       "    .dataframe tbody tr th:only-of-type {\n",
       "        vertical-align: middle;\n",
       "    }\n",
       "\n",
       "    .dataframe tbody tr th {\n",
       "        vertical-align: top;\n",
       "    }\n",
       "\n",
       "    .dataframe thead th {\n",
       "        text-align: right;\n",
       "    }\n",
       "</style>\n",
       "<table border=\"1\" class=\"dataframe\">\n",
       "  <thead>\n",
       "    <tr style=\"text-align: right;\">\n",
       "      <th></th>\n",
       "      <th>id</th>\n",
       "      <th>label</th>\n",
       "      <th>prediction_top</th>\n",
       "      <th>confidence_top</th>\n",
       "      <th>predictions_all</th>\n",
       "      <th>Species</th>\n",
       "      <th>ID</th>\n",
       "    </tr>\n",
       "  </thead>\n",
       "  <tbody>\n",
       "    <tr>\n",
       "      <th>4</th>\n",
       "      <td>ASG0004sme</td>\n",
       "      <td>species</td>\n",
       "      <td>topi</td>\n",
       "      <td>0.9455</td>\n",
       "      <td>{'giraffe': '0.0000', 'sable': '0.0000', 'bate...</td>\n",
       "      <td>topi</td>\n",
       "      <td>51252</td>\n",
       "    </tr>\n",
       "    <tr>\n",
       "      <th>12</th>\n",
       "      <td>ASG0004hr9</td>\n",
       "      <td>species</td>\n",
       "      <td>topi</td>\n",
       "      <td>0.7475</td>\n",
       "      <td>{'giraffe': '0.0000', 'sable': '0.0000', 'bate...</td>\n",
       "      <td>topi</td>\n",
       "      <td>45543</td>\n",
       "    </tr>\n",
       "    <tr>\n",
       "      <th>20</th>\n",
       "      <td>ASG0000rye</td>\n",
       "      <td>species</td>\n",
       "      <td>topi</td>\n",
       "      <td>0.8210</td>\n",
       "      <td>{'giraffe': '0.0000', 'sable': '0.0001', 'bate...</td>\n",
       "      <td>topi</td>\n",
       "      <td>8154</td>\n",
       "    </tr>\n",
       "    <tr>\n",
       "      <th>28</th>\n",
       "      <td>ASG0001eus</td>\n",
       "      <td>species</td>\n",
       "      <td>hartebeest</td>\n",
       "      <td>0.5111</td>\n",
       "      <td>{'giraffe': '0.0023', 'sable': '0.0004', 'bate...</td>\n",
       "      <td>topi</td>\n",
       "      <td>16811</td>\n",
       "    </tr>\n",
       "    <tr>\n",
       "      <th>36</th>\n",
       "      <td>ASG0004hox</td>\n",
       "      <td>species</td>\n",
       "      <td>zebra</td>\n",
       "      <td>0.9994</td>\n",
       "      <td>{'giraffe': '0.0000', 'sable': '0.0000', 'bate...</td>\n",
       "      <td>topi</td>\n",
       "      <td>45519</td>\n",
       "    </tr>\n",
       "  </tbody>\n",
       "</table>\n",
       "</div>"
      ],
      "text/plain": [
       "            id    label prediction_top  confidence_top  \\\n",
       "4   ASG0004sme  species           topi          0.9455   \n",
       "12  ASG0004hr9  species           topi          0.7475   \n",
       "20  ASG0000rye  species           topi          0.8210   \n",
       "28  ASG0001eus  species     hartebeest          0.5111   \n",
       "36  ASG0004hox  species          zebra          0.9994   \n",
       "\n",
       "                                      predictions_all Species     ID  \n",
       "4   {'giraffe': '0.0000', 'sable': '0.0000', 'bate...    topi  51252  \n",
       "12  {'giraffe': '0.0000', 'sable': '0.0000', 'bate...    topi  45543  \n",
       "20  {'giraffe': '0.0000', 'sable': '0.0001', 'bate...    topi   8154  \n",
       "28  {'giraffe': '0.0023', 'sable': '0.0004', 'bate...    topi  16811  \n",
       "36  {'giraffe': '0.0000', 'sable': '0.0000', 'bate...    topi  45519  "
      ]
     },
     "execution_count": 5,
     "metadata": {},
     "output_type": "execute_result"
    }
   ],
   "source": [
    "df.head()"
   ]
  },
  {
   "cell_type": "code",
   "execution_count": 14,
   "metadata": {},
   "outputs": [
    {
     "data": {
      "text/plain": [
       "topi               1326\n",
       "hartebeest          377\n",
       "wildebeest          181\n",
       "zebra                99\n",
       "eland                63\n",
       "gazellethomsons      50\n",
       "buffalo              41\n",
       "impala               40\n",
       "giraffe              25\n",
       "gazellegrants        19\n",
       "warthog              18\n",
       "otherbird            10\n",
       "waterbuck             8\n",
       "hyenaspotted          7\n",
       "elephant              6\n",
       "baboon                5\n",
       "human                 5\n",
       "reedbuck              4\n",
       "ostrich               3\n",
       "lionfemale            3\n",
       "hippopotamus          3\n",
       "guineafowl            2\n",
       "kudu                  1\n",
       "secretarybird         1\n",
       "koribustard           1\n",
       "batearedfox           1\n",
       "Name: prediction_top, dtype: int64"
      ]
     },
     "execution_count": 14,
     "metadata": {},
     "output_type": "execute_result"
    }
   ],
   "source": [
    "df.prediction_top.value_counts()"
   ]
  },
  {
   "cell_type": "code",
   "execution_count": 21,
   "metadata": {},
   "outputs": [
    {
     "data": {
      "text/plain": [
       "<matplotlib.axes._subplots.AxesSubplot at 0x241d25f5cf8>"
      ]
     },
     "execution_count": 21,
     "metadata": {},
     "output_type": "execute_result"
    },
    {
     "data": {
      "image/png": "[encoded data removed]",
      "text/plain": [
       "<Figure size 432x288 with 1 Axes>"
      ]
     },
     "metadata": {},
     "output_type": "display_data"
    }
   ],
   "source": [
    "df.prediction_top.value_counts().plot.bar(title='prediction count')"
   ]
  },
  {
   "cell_type": "code",
   "execution_count": 8,
   "metadata": {},
   "outputs": [
    {
     "data": {
      "text/plain": [
       "count    2299.000000\n",
       "mean        0.701721\n",
       "std         0.230213\n",
       "min         0.142200\n",
       "25%         0.511450\n",
       "50%         0.733800\n",
       "75%         0.911150\n",
       "max         1.000000\n",
       "Name: confidence_top, dtype: float64"
      ]
     },
     "execution_count": 8,
     "metadata": {},
     "output_type": "execute_result"
    }
   ],
   "source": [
    "# a quick look at the 'confidence_top' data\n",
    "df['confidence_top'].describe()"
   ]
  },
  {
   "cell_type": "code",
   "execution_count": 9,
   "metadata": {},
   "outputs": [
    {
     "data": {
      "text/plain": [
       "<matplotlib.axes._subplots.AxesSubplot at 0x241d0efe128>"
      ]
     },
     "execution_count": 9,
     "metadata": {},
     "output_type": "execute_result"
    },
    {
     "data": {
      "image/png": "[encoded data removed]",
      "text/plain": [
       "<Figure size 432x288 with 1 Axes>"
      ]
     },
     "metadata": {},
     "output_type": "display_data"
    }
   ],
   "source": [
    "df.boxplot(column='confidence_top', showfliers=False)"
   ]
  },
  {
   "cell_type": "code",
   "execution_count": 10,
   "metadata": {},
   "outputs": [
    {
     "data": {
      "text/html": [
       "<div>\n",
       "<style scoped>\n",
       "    .dataframe tbody tr th:only-of-type {\n",
       "        vertical-align: middle;\n",
       "    }\n",
       "\n",
       "    .dataframe tbody tr th {\n",
       "        vertical-align: top;\n",
       "    }\n",
       "\n",
       "    .dataframe thead th {\n",
       "        text-align: right;\n",
       "    }\n",
       "</style>\n",
       "<table border=\"1\" class=\"dataframe\">\n",
       "  <thead>\n",
       "    <tr style=\"text-align: right;\">\n",
       "      <th></th>\n",
       "      <th>id</th>\n",
       "      <th>label</th>\n",
       "      <th>prediction_top</th>\n",
       "      <th>confidence_top</th>\n",
       "      <th>predictions_all</th>\n",
       "      <th>Species</th>\n",
       "      <th>ID</th>\n",
       "    </tr>\n",
       "  </thead>\n",
       "  <tbody>\n",
       "    <tr>\n",
       "      <th>4</th>\n",
       "      <td>ASG0004sme</td>\n",
       "      <td>species</td>\n",
       "      <td>topi</td>\n",
       "      <td>0.9455</td>\n",
       "      <td>{'giraffe': '0.0000', 'sable': '0.0000', 'bate...</td>\n",
       "      <td>topi</td>\n",
       "      <td>51252</td>\n",
       "    </tr>\n",
       "    <tr>\n",
       "      <th>12</th>\n",
       "      <td>ASG0004hr9</td>\n",
       "      <td>species</td>\n",
       "      <td>topi</td>\n",
       "      <td>0.7475</td>\n",
       "      <td>{'giraffe': '0.0000', 'sable': '0.0000', 'bate...</td>\n",
       "      <td>topi</td>\n",
       "      <td>45543</td>\n",
       "    </tr>\n",
       "    <tr>\n",
       "      <th>20</th>\n",
       "      <td>ASG0000rye</td>\n",
       "      <td>species</td>\n",
       "      <td>topi</td>\n",
       "      <td>0.8210</td>\n",
       "      <td>{'giraffe': '0.0000', 'sable': '0.0001', 'bate...</td>\n",
       "      <td>topi</td>\n",
       "      <td>8154</td>\n",
       "    </tr>\n",
       "    <tr>\n",
       "      <th>52</th>\n",
       "      <td>ASG0004sfv</td>\n",
       "      <td>species</td>\n",
       "      <td>topi</td>\n",
       "      <td>0.9363</td>\n",
       "      <td>{'giraffe': '0.0000', 'sable': '0.0000', 'bate...</td>\n",
       "      <td>topi</td>\n",
       "      <td>51045</td>\n",
       "    </tr>\n",
       "    <tr>\n",
       "      <th>60</th>\n",
       "      <td>ASG0003uku</td>\n",
       "      <td>species</td>\n",
       "      <td>topi</td>\n",
       "      <td>0.9996</td>\n",
       "      <td>{'giraffe': '0.0000', 'sable': '0.0000', 'bate...</td>\n",
       "      <td>topi</td>\n",
       "      <td>34253</td>\n",
       "    </tr>\n",
       "  </tbody>\n",
       "</table>\n",
       "</div>"
      ],
      "text/plain": [
       "            id    label prediction_top  confidence_top  \\\n",
       "4   ASG0004sme  species           topi          0.9455   \n",
       "12  ASG0004hr9  species           topi          0.7475   \n",
       "20  ASG0000rye  species           topi          0.8210   \n",
       "52  ASG0004sfv  species           topi          0.9363   \n",
       "60  ASG0003uku  species           topi          0.9996   \n",
       "\n",
       "                                      predictions_all Species     ID  \n",
       "4   {'giraffe': '0.0000', 'sable': '0.0000', 'bate...    topi  51252  \n",
       "12  {'giraffe': '0.0000', 'sable': '0.0000', 'bate...    topi  45543  \n",
       "20  {'giraffe': '0.0000', 'sable': '0.0001', 'bate...    topi   8154  \n",
       "52  {'giraffe': '0.0000', 'sable': '0.0000', 'bate...    topi  51045  \n",
       "60  {'giraffe': '0.0000', 'sable': '0.0000', 'bate...    topi  34253  "
      ]
     },
     "execution_count": 10,
     "metadata": {},
     "output_type": "execute_result"
    }
   ],
   "source": [
    "# create a new data frame that only contains 'topi' as top prediction\n",
    "tdf = df[df.prediction_top=='topi']\n",
    "tdf.head()"
   ]
  },
  {
   "cell_type": "code",
   "execution_count": 11,
   "metadata": {},
   "outputs": [
    {
     "data": {
      "text/plain": [
       "count    1326.000000\n",
       "mean        0.804334\n",
       "std         0.182865\n",
       "min         0.179900\n",
       "25%         0.682625\n",
       "50%         0.863100\n",
       "75%         0.962075\n",
       "max         1.000000\n",
       "Name: confidence_top, dtype: float64"
      ]
     },
     "execution_count": 11,
     "metadata": {},
     "output_type": "execute_result"
    }
   ],
   "source": [
    "# a quick look at the 'confidence_top' of eland ONLY predictions.\n",
    "tdf['confidence_top'].describe()"
   ]
  },
  {
   "cell_type": "code",
   "execution_count": 12,
   "metadata": {},
   "outputs": [
    {
     "data": {
      "text/plain": [
       "<matplotlib.axes._subplots.AxesSubplot at 0x241d1f529e8>"
      ]
     },
     "execution_count": 12,
     "metadata": {},
     "output_type": "execute_result"
    },
    {
     "data": {
      "image/png": "[encoded data removed]",
      "text/plain": [
       "<Figure size 432x288 with 1 Axes>"
      ]
     },
     "metadata": {},
     "output_type": "display_data"
    }
   ],
   "source": [
    "tdf.boxplot(column='confidence_top', showfliers=False)"
   ]
  },
  {
   "cell_type": "code",
   "execution_count": 13,
   "metadata": {},
   "outputs": [
    {
     "data": {
      "text/plain": [
       "0.5767725097868639"
      ]
     },
     "execution_count": 13,
     "metadata": {},
     "output_type": "execute_result"
    }
   ],
   "source": [
    "# what is the percentage of EXACT match 'topi' to the whole set.\n",
    "len(tdf)/float(len(df))"
   ]
  },
  {
   "cell_type": "code",
   "execution_count": null,
   "metadata": {},
   "outputs": [],
   "source": []
  }
 ],
 "metadata": {
  "kernelspec": {
   "display_name": "Python 3",
   "language": "python",
   "name": "python3"
  },
  "language_info": {
   "codemirror_mode": {
    "name": "ipython",
    "version": 3
   },
   "file_extension": ".py",
   "mimetype": "text/x-python",
   "name": "python",
   "nbconvert_exporter": "python",
   "pygments_lexer": "ipython3",
   "version": "3.6.5"
  }
 },
 "nbformat": 4,
 "nbformat_minor": 2
}
