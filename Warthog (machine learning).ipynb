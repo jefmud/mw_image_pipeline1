{
 "cells": [
  {
   "cell_type": "code",
   "execution_count": 1,
   "metadata": {},
   "outputs": [],
   "source": [
    "import os\n",
    "import pandas as pd\n",
    "# load up the CSV file as a DataFrame\n",
    "filename = os.path.join('Downloads','warthog_output.csv')\n",
    "df = pd.read_csv(filename)"
   ]
  },
  {
   "cell_type": "code",
   "execution_count": 2,
   "metadata": {},
   "outputs": [
    {
     "data": {
      "text/html": [
       "<div>\n",
       "<style scoped>\n",
       "    .dataframe tbody tr th:only-of-type {\n",
       "        vertical-align: middle;\n",
       "    }\n",
       "\n",
       "    .dataframe tbody tr th {\n",
       "        vertical-align: top;\n",
       "    }\n",
       "\n",
       "    .dataframe thead th {\n",
       "        text-align: right;\n",
       "    }\n",
       "</style>\n",
       "<table border=\"1\" class=\"dataframe\">\n",
       "  <thead>\n",
       "    <tr style=\"text-align: right;\">\n",
       "      <th></th>\n",
       "      <th>id</th>\n",
       "      <th>label</th>\n",
       "      <th>prediction_top</th>\n",
       "      <th>confidence_top</th>\n",
       "      <th>predictions_all</th>\n",
       "      <th>Species</th>\n",
       "      <th>ID</th>\n",
       "    </tr>\n",
       "  </thead>\n",
       "  <tbody>\n",
       "    <tr>\n",
       "      <th>0</th>\n",
       "      <td>ASG0002ufo</td>\n",
       "      <td>species</td>\n",
       "      <td>otherbird</td>\n",
       "      <td>0.2044</td>\n",
       "      <td>{'vervetmonkey': '0.1591', 'porcupine': '0.000...</td>\n",
       "      <td>warthog</td>\n",
       "      <td>2433</td>\n",
       "    </tr>\n",
       "    <tr>\n",
       "      <th>1</th>\n",
       "      <td>ASG0002ufo</td>\n",
       "      <td>resting</td>\n",
       "      <td>0</td>\n",
       "      <td>0.9838</td>\n",
       "      <td>{'1': '0.0162', '0': '0.9838'}</td>\n",
       "      <td>warthog</td>\n",
       "      <td>2433</td>\n",
       "    </tr>\n",
       "    <tr>\n",
       "      <th>2</th>\n",
       "      <td>ASG0002ufo</td>\n",
       "      <td>count</td>\n",
       "      <td>1</td>\n",
       "      <td>0.8521</td>\n",
       "      <td>{'4': '0.0076', '7': '0.0005', '51+': '0.0000'...</td>\n",
       "      <td>warthog</td>\n",
       "      <td>2433</td>\n",
       "    </tr>\n",
       "    <tr>\n",
       "      <th>3</th>\n",
       "      <td>ASG0002ufo</td>\n",
       "      <td>babies</td>\n",
       "      <td>0</td>\n",
       "      <td>0.9989</td>\n",
       "      <td>{'1': '0.0011', '0': '0.9989'}</td>\n",
       "      <td>warthog</td>\n",
       "      <td>2433</td>\n",
       "    </tr>\n",
       "    <tr>\n",
       "      <th>4</th>\n",
       "      <td>ASG0002ufo</td>\n",
       "      <td>standing</td>\n",
       "      <td>0</td>\n",
       "      <td>0.8190</td>\n",
       "      <td>{'1': '0.1810', '0': '0.8190'}</td>\n",
       "      <td>warthog</td>\n",
       "      <td>2433</td>\n",
       "    </tr>\n",
       "  </tbody>\n",
       "</table>\n",
       "</div>"
      ],
      "text/plain": [
       "           id     label prediction_top  confidence_top  \\\n",
       "0  ASG0002ufo   species      otherbird          0.2044   \n",
       "1  ASG0002ufo   resting              0          0.9838   \n",
       "2  ASG0002ufo     count              1          0.8521   \n",
       "3  ASG0002ufo    babies              0          0.9989   \n",
       "4  ASG0002ufo  standing              0          0.8190   \n",
       "\n",
       "                                     predictions_all  Species    ID  \n",
       "0  {'vervetmonkey': '0.1591', 'porcupine': '0.000...  warthog  2433  \n",
       "1                     {'1': '0.0162', '0': '0.9838'}  warthog  2433  \n",
       "2  {'4': '0.0076', '7': '0.0005', '51+': '0.0000'...  warthog  2433  \n",
       "3                     {'1': '0.0011', '0': '0.9989'}  warthog  2433  \n",
       "4                     {'1': '0.1810', '0': '0.8190'}  warthog  2433  "
      ]
     },
     "execution_count": 2,
     "metadata": {},
     "output_type": "execute_result"
    }
   ],
   "source": [
    "df.head()"
   ]
  },
  {
   "cell_type": "code",
   "execution_count": 3,
   "metadata": {},
   "outputs": [],
   "source": [
    "# filter the DataFrame to ONLY contain the species information\n",
    "df = df[df.label=='species']"
   ]
  },
  {
   "cell_type": "code",
   "execution_count": 5,
   "metadata": {},
   "outputs": [
    {
     "data": {
      "text/html": [
       "<div>\n",
       "<style scoped>\n",
       "    .dataframe tbody tr th:only-of-type {\n",
       "        vertical-align: middle;\n",
       "    }\n",
       "\n",
       "    .dataframe tbody tr th {\n",
       "        vertical-align: top;\n",
       "    }\n",
       "\n",
       "    .dataframe thead th {\n",
       "        text-align: right;\n",
       "    }\n",
       "</style>\n",
       "<table border=\"1\" class=\"dataframe\">\n",
       "  <thead>\n",
       "    <tr style=\"text-align: right;\">\n",
       "      <th></th>\n",
       "      <th>id</th>\n",
       "      <th>label</th>\n",
       "      <th>prediction_top</th>\n",
       "      <th>confidence_top</th>\n",
       "      <th>predictions_all</th>\n",
       "      <th>Species</th>\n",
       "      <th>ID</th>\n",
       "    </tr>\n",
       "  </thead>\n",
       "  <tbody>\n",
       "    <tr>\n",
       "      <th>0</th>\n",
       "      <td>ASG0002ufo</td>\n",
       "      <td>species</td>\n",
       "      <td>otherbird</td>\n",
       "      <td>0.2044</td>\n",
       "      <td>{'vervetmonkey': '0.1591', 'porcupine': '0.000...</td>\n",
       "      <td>warthog</td>\n",
       "      <td>2433</td>\n",
       "    </tr>\n",
       "    <tr>\n",
       "      <th>8</th>\n",
       "      <td>ASG0003bm2</td>\n",
       "      <td>species</td>\n",
       "      <td>warthog</td>\n",
       "      <td>0.9960</td>\n",
       "      <td>{'vervetmonkey': '0.0001', 'porcupine': '0.000...</td>\n",
       "      <td>warthog</td>\n",
       "      <td>25538</td>\n",
       "    </tr>\n",
       "    <tr>\n",
       "      <th>16</th>\n",
       "      <td>ASG0001pyo</td>\n",
       "      <td>species</td>\n",
       "      <td>warthog</td>\n",
       "      <td>0.5730</td>\n",
       "      <td>{'vervetmonkey': '0.0061', 'porcupine': '0.000...</td>\n",
       "      <td>warthog</td>\n",
       "      <td>19965</td>\n",
       "    </tr>\n",
       "    <tr>\n",
       "      <th>24</th>\n",
       "      <td>ASG00012zt</td>\n",
       "      <td>species</td>\n",
       "      <td>warthog</td>\n",
       "      <td>0.9801</td>\n",
       "      <td>{'vervetmonkey': '0.0000', 'porcupine': '0.000...</td>\n",
       "      <td>warthog</td>\n",
       "      <td>12509</td>\n",
       "    </tr>\n",
       "    <tr>\n",
       "      <th>32</th>\n",
       "      <td>ASG0000gb3</td>\n",
       "      <td>species</td>\n",
       "      <td>gazellethomsons</td>\n",
       "      <td>0.4203</td>\n",
       "      <td>{'vervetmonkey': '0.0019', 'porcupine': '0.000...</td>\n",
       "      <td>warthog</td>\n",
       "      <td>23637</td>\n",
       "    </tr>\n",
       "  </tbody>\n",
       "</table>\n",
       "</div>"
      ],
      "text/plain": [
       "            id    label   prediction_top  confidence_top  \\\n",
       "0   ASG0002ufo  species        otherbird          0.2044   \n",
       "8   ASG0003bm2  species          warthog          0.9960   \n",
       "16  ASG0001pyo  species          warthog          0.5730   \n",
       "24  ASG00012zt  species          warthog          0.9801   \n",
       "32  ASG0000gb3  species  gazellethomsons          0.4203   \n",
       "\n",
       "                                      predictions_all  Species     ID  \n",
       "0   {'vervetmonkey': '0.1591', 'porcupine': '0.000...  warthog   2433  \n",
       "8   {'vervetmonkey': '0.0001', 'porcupine': '0.000...  warthog  25538  \n",
       "16  {'vervetmonkey': '0.0061', 'porcupine': '0.000...  warthog  19965  \n",
       "24  {'vervetmonkey': '0.0000', 'porcupine': '0.000...  warthog  12509  \n",
       "32  {'vervetmonkey': '0.0019', 'porcupine': '0.000...  warthog  23637  "
      ]
     },
     "execution_count": 5,
     "metadata": {},
     "output_type": "execute_result"
    }
   ],
   "source": [
    "df.head()"
   ]
  },
  {
   "cell_type": "code",
   "execution_count": 6,
   "metadata": {},
   "outputs": [
    {
     "data": {
      "text/plain": [
       "warthog            5828\n",
       "zebra               265\n",
       "gazellethomsons     259\n",
       "wildebeest          231\n",
       "guineafowl          179\n",
       "otherbird           152\n",
       "baboon              135\n",
       "hyenaspotted        129\n",
       "buffalo              67\n",
       "impala               48\n",
       "lionfemale           31\n",
       "giraffe              25\n",
       "elephant             22\n",
       "hartebeest           20\n",
       "human                17\n",
       "dikdik               12\n",
       "gazellegrants        12\n",
       "hippopotamus          9\n",
       "topi                  8\n",
       "koribustard           7\n",
       "secretarybird         6\n",
       "cheetah               5\n",
       "eland                 4\n",
       "insectspider          3\n",
       "aardvark              3\n",
       "lionmale              3\n",
       "jackal                2\n",
       "reedbuck              2\n",
       "mongoose              2\n",
       "hare                  1\n",
       "vervetmonkey          1\n",
       "serval                1\n",
       "Name: prediction_top, dtype: int64"
      ]
     },
     "execution_count": 6,
     "metadata": {},
     "output_type": "execute_result"
    }
   ],
   "source": [
    "df.prediction_top.value_counts()"
   ]
  },
  {
   "cell_type": "code",
   "execution_count": 8,
   "metadata": {},
   "outputs": [
    {
     "data": {
      "text/plain": [
       "<matplotlib.axes._subplots.AxesSubplot at 0x1f412e7f390>"
      ]
     },
     "execution_count": 8,
     "metadata": {},
     "output_type": "execute_result"
    },
    {
     "data": {
      "image/png": "[encoded data removed]",
      "text/plain": [
       "<Figure size 432x288 with 1 Axes>"
      ]
     },
     "metadata": {},
     "output_type": "display_data"
    }
   ],
   "source": [
    "df.prediction_top.value_counts().plot.bar(title='prediction count')"
   ]
  },
  {
   "cell_type": "code",
   "execution_count": 9,
   "metadata": {},
   "outputs": [
    {
     "data": {
      "text/plain": [
       "count    7489.000000\n",
       "mean        0.801121\n",
       "std         0.245113\n",
       "min         0.097300\n",
       "25%         0.636300\n",
       "50%         0.935600\n",
       "75%         0.994600\n",
       "max         1.000000\n",
       "Name: confidence_top, dtype: float64"
      ]
     },
     "execution_count": 9,
     "metadata": {},
     "output_type": "execute_result"
    }
   ],
   "source": [
    "# a quick look at the 'confidence_top' data\n",
    "df['confidence_top'].describe()"
   ]
  },
  {
   "cell_type": "code",
   "execution_count": 10,
   "metadata": {},
   "outputs": [
    {
     "data": {
      "text/plain": [
       "<matplotlib.axes._subplots.AxesSubplot at 0x1f412ac3f60>"
      ]
     },
     "execution_count": 10,
     "metadata": {},
     "output_type": "execute_result"
    },
    {
     "data": {
      "image/png": "[encoded data removed]",
      "text/plain": [
       "<Figure size 432x288 with 1 Axes>"
      ]
     },
     "metadata": {},
     "output_type": "display_data"
    }
   ],
   "source": [
    "df.boxplot(column='confidence_top', showfliers=False)"
   ]
  },
  {
   "cell_type": "code",
   "execution_count": 11,
   "metadata": {},
   "outputs": [
    {
     "data": {
      "text/html": [
       "<div>\n",
       "<style scoped>\n",
       "    .dataframe tbody tr th:only-of-type {\n",
       "        vertical-align: middle;\n",
       "    }\n",
       "\n",
       "    .dataframe tbody tr th {\n",
       "        vertical-align: top;\n",
       "    }\n",
       "\n",
       "    .dataframe thead th {\n",
       "        text-align: right;\n",
       "    }\n",
       "</style>\n",
       "<table border=\"1\" class=\"dataframe\">\n",
       "  <thead>\n",
       "    <tr style=\"text-align: right;\">\n",
       "      <th></th>\n",
       "      <th>id</th>\n",
       "      <th>label</th>\n",
       "      <th>prediction_top</th>\n",
       "      <th>confidence_top</th>\n",
       "      <th>predictions_all</th>\n",
       "      <th>Species</th>\n",
       "      <th>ID</th>\n",
       "    </tr>\n",
       "  </thead>\n",
       "  <tbody>\n",
       "    <tr>\n",
       "      <th>8</th>\n",
       "      <td>ASG0003bm2</td>\n",
       "      <td>species</td>\n",
       "      <td>warthog</td>\n",
       "      <td>0.9960</td>\n",
       "      <td>{'vervetmonkey': '0.0001', 'porcupine': '0.000...</td>\n",
       "      <td>warthog</td>\n",
       "      <td>25538</td>\n",
       "    </tr>\n",
       "    <tr>\n",
       "      <th>16</th>\n",
       "      <td>ASG0001pyo</td>\n",
       "      <td>species</td>\n",
       "      <td>warthog</td>\n",
       "      <td>0.5730</td>\n",
       "      <td>{'vervetmonkey': '0.0061', 'porcupine': '0.000...</td>\n",
       "      <td>warthog</td>\n",
       "      <td>19965</td>\n",
       "    </tr>\n",
       "    <tr>\n",
       "      <th>24</th>\n",
       "      <td>ASG00012zt</td>\n",
       "      <td>species</td>\n",
       "      <td>warthog</td>\n",
       "      <td>0.9801</td>\n",
       "      <td>{'vervetmonkey': '0.0000', 'porcupine': '0.000...</td>\n",
       "      <td>warthog</td>\n",
       "      <td>12509</td>\n",
       "    </tr>\n",
       "    <tr>\n",
       "      <th>40</th>\n",
       "      <td>ASG00002jb</td>\n",
       "      <td>species</td>\n",
       "      <td>warthog</td>\n",
       "      <td>0.9807</td>\n",
       "      <td>{'vervetmonkey': '0.0008', 'porcupine': '0.000...</td>\n",
       "      <td>warthog</td>\n",
       "      <td>9174</td>\n",
       "    </tr>\n",
       "    <tr>\n",
       "      <th>48</th>\n",
       "      <td>ASG0001upe</td>\n",
       "      <td>species</td>\n",
       "      <td>warthog</td>\n",
       "      <td>0.2446</td>\n",
       "      <td>{'vervetmonkey': '0.0954', 'porcupine': '0.001...</td>\n",
       "      <td>warthog</td>\n",
       "      <td>20503</td>\n",
       "    </tr>\n",
       "  </tbody>\n",
       "</table>\n",
       "</div>"
      ],
      "text/plain": [
       "            id    label prediction_top  confidence_top  \\\n",
       "8   ASG0003bm2  species        warthog          0.9960   \n",
       "16  ASG0001pyo  species        warthog          0.5730   \n",
       "24  ASG00012zt  species        warthog          0.9801   \n",
       "40  ASG00002jb  species        warthog          0.9807   \n",
       "48  ASG0001upe  species        warthog          0.2446   \n",
       "\n",
       "                                      predictions_all  Species     ID  \n",
       "8   {'vervetmonkey': '0.0001', 'porcupine': '0.000...  warthog  25538  \n",
       "16  {'vervetmonkey': '0.0061', 'porcupine': '0.000...  warthog  19965  \n",
       "24  {'vervetmonkey': '0.0000', 'porcupine': '0.000...  warthog  12509  \n",
       "40  {'vervetmonkey': '0.0008', 'porcupine': '0.000...  warthog   9174  \n",
       "48  {'vervetmonkey': '0.0954', 'porcupine': '0.001...  warthog  20503  "
      ]
     },
     "execution_count": 11,
     "metadata": {},
     "output_type": "execute_result"
    }
   ],
   "source": [
    "# create a new data frame that only contains 'topi' as top prediction\n",
    "sdf = df[df.prediction_top=='warthog']\n",
    "sdf.head()"
   ]
  },
  {
   "cell_type": "code",
   "execution_count": 15,
   "metadata": {},
   "outputs": [
    {
     "data": {
      "text/plain": [
       "count    5828.000000\n",
       "mean        0.879060\n",
       "std         0.182292\n",
       "min         0.124700\n",
       "25%         0.833350\n",
       "50%         0.973100\n",
       "75%         0.997100\n",
       "max         1.000000\n",
       "Name: confidence_top, dtype: float64"
      ]
     },
     "execution_count": 15,
     "metadata": {},
     "output_type": "execute_result"
    }
   ],
   "source": [
    "# a quick look at the 'confidence_top' of warthog ONLY predictions.\n",
    "sdf['confidence_top'].describe()"
   ]
  },
  {
   "cell_type": "code",
   "execution_count": 16,
   "metadata": {},
   "outputs": [
    {
     "data": {
      "text/plain": [
       "<matplotlib.axes._subplots.AxesSubplot at 0x1f41303c198>"
      ]
     },
     "execution_count": 16,
     "metadata": {},
     "output_type": "execute_result"
    },
    {
     "data": {
      "image/png": "[encoded data removed]",
      "text/plain": [
       "<Figure size 432x288 with 1 Axes>"
      ]
     },
     "metadata": {},
     "output_type": "display_data"
    }
   ],
   "source": [
    "sdf.boxplot(column='confidence_top', showfliers=False)"
   ]
  },
  {
   "cell_type": "code",
   "execution_count": 17,
   "metadata": {},
   "outputs": [
    {
     "data": {
      "text/plain": [
       "0.7782080384564027"
      ]
     },
     "execution_count": 17,
     "metadata": {},
     "output_type": "execute_result"
    }
   ],
   "source": [
    "# what is the percentage of EXACT match 'warthog' to the whole set.\n",
    "len(sdf)/float(len(df))"
   ]
  },
  {
   "cell_type": "code",
   "execution_count": null,
   "metadata": {},
   "outputs": [],
   "source": []
  }
 ],
 "metadata": {
  "kernelspec": {
   "display_name": "Python 3",
   "language": "python",
   "name": "python3"
  },
  "language_info": {
   "codemirror_mode": {
    "name": "ipython",
    "version": 3
   },
   "file_extension": ".py",
   "mimetype": "text/x-python",
   "name": "python",
   "nbconvert_exporter": "python",
   "pygments_lexer": "ipython3",
   "version": "3.6.5"
  }
 },
 "nbformat": 4,
 "nbformat_minor": 2
}
