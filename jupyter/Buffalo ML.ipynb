{
 "cells": [
  {
   "cell_type": "code",
   "execution_count": 11,
   "metadata": {},
   "outputs": [],
   "source": [
    "import os\n",
    "import pandas as pd\n",
    "species = 'buffalo'\n",
    "# note species is huge, so we can load its zip file instead\n",
    "fname = os.path.join('output', species + '_output.zip')\n",
    "sdf = pd.read_csv(fname, compression='zip')"
   ]
  },
  {
   "cell_type": "code",
   "execution_count": 2,
   "metadata": {},
   "outputs": [
    {
     "data": {
      "text/html": [
       "<div>\n",
       "<style scoped>\n",
       "    .dataframe tbody tr th:only-of-type {\n",
       "        vertical-align: middle;\n",
       "    }\n",
       "\n",
       "    .dataframe tbody tr th {\n",
       "        vertical-align: top;\n",
       "    }\n",
       "\n",
       "    .dataframe thead th {\n",
       "        text-align: right;\n",
       "    }\n",
       "</style>\n",
       "<table border=\"1\" class=\"dataframe\">\n",
       "  <thead>\n",
       "    <tr style=\"text-align: right;\">\n",
       "      <th></th>\n",
       "      <th>id</th>\n",
       "      <th>label</th>\n",
       "      <th>prediction_top</th>\n",
       "      <th>confidence_top</th>\n",
       "      <th>predictions_all</th>\n",
       "      <th>ID</th>\n",
       "      <th>Species</th>\n",
       "    </tr>\n",
       "  </thead>\n",
       "  <tbody>\n",
       "    <tr>\n",
       "      <th>0</th>\n",
       "      <td>ASG00003hu</td>\n",
       "      <td>species</td>\n",
       "      <td>hippopotamus</td>\n",
       "      <td>0.5522</td>\n",
       "      <td>{'aardvark': '0.0016', 'aardwolf': '0.0002', '...</td>\n",
       "      <td>2395</td>\n",
       "      <td>buffalo</td>\n",
       "    </tr>\n",
       "    <tr>\n",
       "      <th>8</th>\n",
       "      <td>ASG0000224</td>\n",
       "      <td>species</td>\n",
       "      <td>hyenaspotted</td>\n",
       "      <td>0.2048</td>\n",
       "      <td>{'aardvark': '0.0191', 'aardwolf': '0.0097', '...</td>\n",
       "      <td>2396</td>\n",
       "      <td>buffalo</td>\n",
       "    </tr>\n",
       "    <tr>\n",
       "      <th>16</th>\n",
       "      <td>ASG0000225</td>\n",
       "      <td>species</td>\n",
       "      <td>buffalo</td>\n",
       "      <td>0.6250</td>\n",
       "      <td>{'aardvark': '0.0021', 'aardwolf': '0.0000', '...</td>\n",
       "      <td>2397</td>\n",
       "      <td>buffalo</td>\n",
       "    </tr>\n",
       "    <tr>\n",
       "      <th>24</th>\n",
       "      <td>ASG00003i3</td>\n",
       "      <td>species</td>\n",
       "      <td>buffalo</td>\n",
       "      <td>0.9862</td>\n",
       "      <td>{'aardvark': '0.0000', 'aardwolf': '0.0000', '...</td>\n",
       "      <td>2398</td>\n",
       "      <td>buffalo</td>\n",
       "    </tr>\n",
       "    <tr>\n",
       "      <th>32</th>\n",
       "      <td>ASG00003ic</td>\n",
       "      <td>species</td>\n",
       "      <td>buffalo</td>\n",
       "      <td>0.4762</td>\n",
       "      <td>{'aardvark': '0.0010', 'aardwolf': '0.0012', '...</td>\n",
       "      <td>2399</td>\n",
       "      <td>buffalo</td>\n",
       "    </tr>\n",
       "  </tbody>\n",
       "</table>\n",
       "</div>"
      ],
      "text/plain": [
       "            id    label prediction_top  confidence_top  \\\n",
       "0   ASG00003hu  species   hippopotamus          0.5522   \n",
       "8   ASG0000224  species   hyenaspotted          0.2048   \n",
       "16  ASG0000225  species        buffalo          0.6250   \n",
       "24  ASG00003i3  species        buffalo          0.9862   \n",
       "32  ASG00003ic  species        buffalo          0.4762   \n",
       "\n",
       "                                      predictions_all    ID  Species  \n",
       "0   {'aardvark': '0.0016', 'aardwolf': '0.0002', '...  2395  buffalo  \n",
       "8   {'aardvark': '0.0191', 'aardwolf': '0.0097', '...  2396  buffalo  \n",
       "16  {'aardvark': '0.0021', 'aardwolf': '0.0000', '...  2397  buffalo  \n",
       "24  {'aardvark': '0.0000', 'aardwolf': '0.0000', '...  2398  buffalo  \n",
       "32  {'aardvark': '0.0010', 'aardwolf': '0.0012', '...  2399  buffalo  "
      ]
     },
     "execution_count": 2,
     "metadata": {},
     "output_type": "execute_result"
    }
   ],
   "source": [
    "# limit to species label only\n",
    "sdf = sdf[sdf.label=='species']\n",
    "sdf.head()"
   ]
  },
  {
   "cell_type": "code",
   "execution_count": 3,
   "metadata": {},
   "outputs": [],
   "source": [
    "# top ten predictions for the data\n",
    "top_ten = sdf.prediction_top.value_counts()[:10]"
   ]
  },
  {
   "cell_type": "code",
   "execution_count": 5,
   "metadata": {},
   "outputs": [
    {
     "data": {
      "text/plain": [
       "<matplotlib.axes._subplots.AxesSubplot at 0x17f0c19a7f0>"
      ]
     },
     "execution_count": 5,
     "metadata": {},
     "output_type": "execute_result"
    },
    {
     "data": {
      "image/png": "[encoded data removed]",
      "text/plain": [
       "<Figure size 432x288 with 1 Axes>"
      ]
     },
     "metadata": {},
     "output_type": "display_data"
    }
   ],
   "source": [
    "top_ten.plot.bar(title=\"Top ten predictions for \" + species)"
   ]
  },
  {
   "cell_type": "code",
   "execution_count": 6,
   "metadata": {},
   "outputs": [
    {
     "name": "stdout",
     "output_type": "stream",
     "text": [
      "total predictions= 13670\n",
      "buffalo count= 11118\n",
      "percent match= 0.8133138258961229\n"
     ]
    }
   ],
   "source": [
    "prediction_count = sdf.prediction_top.count()\n",
    "species_count = sdf[sdf.prediction_top==species].prediction_top.count()\n",
    "print(\"total predictions=\", prediction_count)\n",
    "print(species, \"count=\", species_count)\n",
    "print(\"percent match=\",float(species_count)/prediction_count)"
   ]
  },
  {
   "cell_type": "code",
   "execution_count": 7,
   "metadata": {},
   "outputs": [
    {
     "data": {
      "text/plain": [
       "<matplotlib.axes._subplots.AxesSubplot at 0x17f0c20e4a8>"
      ]
     },
     "execution_count": 7,
     "metadata": {},
     "output_type": "execute_result"
    },
    {
     "data": {
      "image/png": "[encoded data removed]",
      "text/plain": [
       "<Figure size 432x288 with 1 Axes>"
      ]
     },
     "metadata": {},
     "output_type": "display_data"
    }
   ],
   "source": [
    "# confidence boxplot\n",
    "sdf.confidence_top.plot.box(title='confidence of all predictions', showfliers=False)"
   ]
  },
  {
   "cell_type": "code",
   "execution_count": 8,
   "metadata": {},
   "outputs": [
    {
     "data": {
      "text/plain": [
       "count    13670.000000\n",
       "mean         0.840366\n",
       "std          0.209503\n",
       "min          0.116900\n",
       "25%          0.726625\n",
       "50%          0.953950\n",
       "75%          0.996400\n",
       "max          1.000000\n",
       "Name: confidence_top, dtype: float64"
      ]
     },
     "execution_count": 8,
     "metadata": {},
     "output_type": "execute_result"
    }
   ],
   "source": [
    "sdf.confidence_top.describe()"
   ]
  },
  {
   "cell_type": "code",
   "execution_count": 9,
   "metadata": {},
   "outputs": [
    {
     "data": {
      "text/plain": [
       "<matplotlib.axes._subplots.AxesSubplot at 0x17f0c1f7748>"
      ]
     },
     "execution_count": 9,
     "metadata": {},
     "output_type": "execute_result"
    },
    {
     "data": {
      "image/png": "[encoded data removed]",
      "text/plain": [
       "<Figure size 432x288 with 1 Axes>"
      ]
     },
     "metadata": {},
     "output_type": "display_data"
    }
   ],
   "source": [
    "sdf[sdf.prediction_top==species].confidence_top.plot.box(title='confidence of {} predictions'.format(species), showfliers=False)"
   ]
  },
  {
   "cell_type": "code",
   "execution_count": 10,
   "metadata": {},
   "outputs": [
    {
     "data": {
      "text/plain": [
       "count    11118.000000\n",
       "mean         0.895047\n",
       "std          0.161575\n",
       "min          0.116900\n",
       "25%          0.859500\n",
       "50%          0.979000\n",
       "75%          0.997900\n",
       "max          1.000000\n",
       "Name: confidence_top, dtype: float64"
      ]
     },
     "execution_count": 10,
     "metadata": {},
     "output_type": "execute_result"
    }
   ],
   "source": [
    "sdf[sdf.prediction_top==species].confidence_top.describe()"
   ]
  },
  {
   "cell_type": "code",
   "execution_count": null,
   "metadata": {},
   "outputs": [],
   "source": []
  }
 ],
 "metadata": {
  "kernelspec": {
   "display_name": "Python 3",
   "language": "python",
   "name": "python3"
  },
  "language_info": {
   "codemirror_mode": {
    "name": "ipython",
    "version": 3
   },
   "file_extension": ".py",
   "mimetype": "text/x-python",
   "name": "python",
   "nbconvert_exporter": "python",
   "pygments_lexer": "ipython3",
   "version": "3.6.5"
  }
 },
 "nbformat": 4,
 "nbformat_minor": 2
}
