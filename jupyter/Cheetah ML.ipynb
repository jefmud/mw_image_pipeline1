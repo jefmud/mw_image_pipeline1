{
 "cells": [
  {
   "cell_type": "code",
   "execution_count": 4,
   "metadata": {},
   "outputs": [],
   "source": [
    "import os\n",
    "import pandas as pd\n",
    "species = 'cheetah'\n",
    "fname = os.path.join('output', species + '_output.csv')\n",
    "sdf = pd.read_csv(fname)"
   ]
  },
  {
   "cell_type": "code",
   "execution_count": 5,
   "metadata": {},
   "outputs": [
    {
     "data": {
      "text/html": [
       "<div>\n",
       "<style scoped>\n",
       "    .dataframe tbody tr th:only-of-type {\n",
       "        vertical-align: middle;\n",
       "    }\n",
       "\n",
       "    .dataframe tbody tr th {\n",
       "        vertical-align: top;\n",
       "    }\n",
       "\n",
       "    .dataframe thead th {\n",
       "        text-align: right;\n",
       "    }\n",
       "</style>\n",
       "<table border=\"1\" class=\"dataframe\">\n",
       "  <thead>\n",
       "    <tr style=\"text-align: right;\">\n",
       "      <th></th>\n",
       "      <th>id</th>\n",
       "      <th>label</th>\n",
       "      <th>prediction_top</th>\n",
       "      <th>confidence_top</th>\n",
       "      <th>predictions_all</th>\n",
       "      <th>ID</th>\n",
       "      <th>Species</th>\n",
       "    </tr>\n",
       "  </thead>\n",
       "  <tbody>\n",
       "    <tr>\n",
       "      <th>0</th>\n",
       "      <td>ASG000053d</td>\n",
       "      <td>species</td>\n",
       "      <td>gazellethomsons</td>\n",
       "      <td>0.3493</td>\n",
       "      <td>{'aardvark': '0.0003', 'aardwolf': '0.0002', '...</td>\n",
       "      <td>16398</td>\n",
       "      <td>cheetah</td>\n",
       "    </tr>\n",
       "    <tr>\n",
       "      <th>8</th>\n",
       "      <td>ASG00004yo</td>\n",
       "      <td>species</td>\n",
       "      <td>lionmale</td>\n",
       "      <td>0.3949</td>\n",
       "      <td>{'aardvark': '0.0040', 'aardwolf': '0.0039', '...</td>\n",
       "      <td>16399</td>\n",
       "      <td>cheetah</td>\n",
       "    </tr>\n",
       "    <tr>\n",
       "      <th>16</th>\n",
       "      <td>ASG000018g</td>\n",
       "      <td>species</td>\n",
       "      <td>koribustard</td>\n",
       "      <td>0.4151</td>\n",
       "      <td>{'aardvark': '0.0000', 'aardwolf': '0.0000', '...</td>\n",
       "      <td>16400</td>\n",
       "      <td>cheetah</td>\n",
       "    </tr>\n",
       "    <tr>\n",
       "      <th>24</th>\n",
       "      <td>ASG00001b9</td>\n",
       "      <td>species</td>\n",
       "      <td>zebra</td>\n",
       "      <td>0.2874</td>\n",
       "      <td>{'aardvark': '0.0001', 'aardwolf': '0.0006', '...</td>\n",
       "      <td>16401</td>\n",
       "      <td>cheetah</td>\n",
       "    </tr>\n",
       "    <tr>\n",
       "      <th>32</th>\n",
       "      <td>ASG00001by</td>\n",
       "      <td>species</td>\n",
       "      <td>cheetah</td>\n",
       "      <td>0.9139</td>\n",
       "      <td>{'aardvark': '0.0000', 'aardwolf': '0.0000', '...</td>\n",
       "      <td>16402</td>\n",
       "      <td>cheetah</td>\n",
       "    </tr>\n",
       "  </tbody>\n",
       "</table>\n",
       "</div>"
      ],
      "text/plain": [
       "            id    label   prediction_top  confidence_top  \\\n",
       "0   ASG000053d  species  gazellethomsons          0.3493   \n",
       "8   ASG00004yo  species         lionmale          0.3949   \n",
       "16  ASG000018g  species      koribustard          0.4151   \n",
       "24  ASG00001b9  species            zebra          0.2874   \n",
       "32  ASG00001by  species          cheetah          0.9139   \n",
       "\n",
       "                                      predictions_all     ID  Species  \n",
       "0   {'aardvark': '0.0003', 'aardwolf': '0.0002', '...  16398  cheetah  \n",
       "8   {'aardvark': '0.0040', 'aardwolf': '0.0039', '...  16399  cheetah  \n",
       "16  {'aardvark': '0.0000', 'aardwolf': '0.0000', '...  16400  cheetah  \n",
       "24  {'aardvark': '0.0001', 'aardwolf': '0.0006', '...  16401  cheetah  \n",
       "32  {'aardvark': '0.0000', 'aardwolf': '0.0000', '...  16402  cheetah  "
      ]
     },
     "execution_count": 5,
     "metadata": {},
     "output_type": "execute_result"
    }
   ],
   "source": [
    "# limit to species label only\n",
    "sdf = sdf[sdf.label=='species']\n",
    "sdf.head()"
   ]
  },
  {
   "cell_type": "code",
   "execution_count": 10,
   "metadata": {},
   "outputs": [],
   "source": [
    "# top ten predictions for the data\n",
    "top_ten = sdf.prediction_top.value_counts()[:10]"
   ]
  },
  {
   "cell_type": "code",
   "execution_count": 15,
   "metadata": {},
   "outputs": [
    {
     "data": {
      "text/plain": [
       "<matplotlib.axes._subplots.AxesSubplot at 0x234a3924160>"
      ]
     },
     "execution_count": 15,
     "metadata": {},
     "output_type": "execute_result"
    },
    {
     "data": {
      "image/png": "[encoded data removed]",
      "text/plain": [
       "<Figure size 432x288 with 1 Axes>"
      ]
     },
     "metadata": {},
     "output_type": "display_data"
    }
   ],
   "source": [
    "top_ten.plot.bar(title=\"Top ten predictions for \" + species)"
   ]
  },
  {
   "cell_type": "code",
   "execution_count": 14,
   "metadata": {},
   "outputs": [
    {
     "name": "stdout",
     "output_type": "stream",
     "text": [
      "total predictions= 1272\n",
      "cheetah count= 827\n",
      "percent match= 0.6501572327044025\n"
     ]
    }
   ],
   "source": [
    "prediction_count = sdf.prediction_top.count()\n",
    "species_count = sdf[sdf.prediction_top==species].prediction_top.count()\n",
    "print(\"total predictions=\", prediction_count)\n",
    "print(species, \"count=\", species_count)\n",
    "print(\"percent match=\",float(species_count)/prediction_count)"
   ]
  },
  {
   "cell_type": "code",
   "execution_count": 21,
   "metadata": {},
   "outputs": [
    {
     "data": {
      "text/plain": [
       "<matplotlib.axes._subplots.AxesSubplot at 0x234a4b7e9b0>"
      ]
     },
     "execution_count": 21,
     "metadata": {},
     "output_type": "execute_result"
    },
    {
     "data": {
      "image/png": "[encoded data removed]",
      "text/plain": [
       "<Figure size 432x288 with 1 Axes>"
      ]
     },
     "metadata": {},
     "output_type": "display_data"
    }
   ],
   "source": [
    "# confidence boxplot\n",
    "sdf.confidence_top.plot.box(title='confidence of all predictions', showfliers=False)"
   ]
  },
  {
   "cell_type": "code",
   "execution_count": 22,
   "metadata": {},
   "outputs": [
    {
     "data": {
      "text/plain": [
       "count    1272.000000\n",
       "mean        0.679674\n",
       "std         0.270151\n",
       "min         0.102300\n",
       "25%         0.433175\n",
       "50%         0.725600\n",
       "75%         0.954350\n",
       "max         0.999900\n",
       "Name: confidence_top, dtype: float64"
      ]
     },
     "execution_count": 22,
     "metadata": {},
     "output_type": "execute_result"
    }
   ],
   "source": [
    "sdf.confidence_top.describe()"
   ]
  },
  {
   "cell_type": "code",
   "execution_count": 19,
   "metadata": {},
   "outputs": [
    {
     "data": {
      "text/plain": [
       "<matplotlib.axes._subplots.AxesSubplot at 0x234a4ad4198>"
      ]
     },
     "execution_count": 19,
     "metadata": {},
     "output_type": "execute_result"
    },
    {
     "data": {
      "image/png": "[encoded data removed]",
      "text/plain": [
       "<Figure size 432x288 with 1 Axes>"
      ]
     },
     "metadata": {},
     "output_type": "display_data"
    }
   ],
   "source": [
    "sdf[sdf.prediction_top==species].confidence_top.plot.box(title='confidence of {} predictions'.format(species), showfliers=False)"
   ]
  },
  {
   "cell_type": "code",
   "execution_count": 23,
   "metadata": {},
   "outputs": [
    {
     "data": {
      "text/plain": [
       "count    827.000000\n",
       "mean       0.806088\n",
       "std        0.213243\n",
       "min        0.197100\n",
       "25%        0.679200\n",
       "50%        0.903000\n",
       "75%        0.980400\n",
       "max        0.999900\n",
       "Name: confidence_top, dtype: float64"
      ]
     },
     "execution_count": 23,
     "metadata": {},
     "output_type": "execute_result"
    }
   ],
   "source": [
    "sdf[sdf.prediction_top==species].confidence_top.describe()"
   ]
  },
  {
   "cell_type": "code",
   "execution_count": null,
   "metadata": {},
   "outputs": [],
   "source": []
  }
 ],
 "metadata": {
  "kernelspec": {
   "display_name": "Python 3",
   "language": "python",
   "name": "python3"
  },
  "language_info": {
   "codemirror_mode": {
    "name": "ipython",
    "version": 3
   },
   "file_extension": ".py",
   "mimetype": "text/x-python",
   "name": "python",
   "nbconvert_exporter": "python",
   "pygments_lexer": "ipython3",
   "version": "3.6.5"
  }
 },
 "nbformat": 4,
 "nbformat_minor": 2
}
