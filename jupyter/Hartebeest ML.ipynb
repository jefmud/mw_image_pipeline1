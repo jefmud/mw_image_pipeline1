{
 "cells": [
  {
   "cell_type": "code",
   "execution_count": 1,
   "metadata": {},
   "outputs": [],
   "source": [
    "import os\n",
    "import pandas as pd\n",
    "species = 'hartebeest'\n",
    "# note species is huge, so we can load its zip file instead\n",
    "fname = os.path.join('output', species + '_output.zip')\n",
    "sdf = pd.read_csv(fname, compression='zip')"
   ]
  },
  {
   "cell_type": "code",
   "execution_count": 2,
   "metadata": {},
   "outputs": [
    {
     "data": {
      "text/html": [
       "<div>\n",
       "<style scoped>\n",
       "    .dataframe tbody tr th:only-of-type {\n",
       "        vertical-align: middle;\n",
       "    }\n",
       "\n",
       "    .dataframe tbody tr th {\n",
       "        vertical-align: top;\n",
       "    }\n",
       "\n",
       "    .dataframe thead th {\n",
       "        text-align: right;\n",
       "    }\n",
       "</style>\n",
       "<table border=\"1\" class=\"dataframe\">\n",
       "  <thead>\n",
       "    <tr style=\"text-align: right;\">\n",
       "      <th></th>\n",
       "      <th>id</th>\n",
       "      <th>label</th>\n",
       "      <th>prediction_top</th>\n",
       "      <th>confidence_top</th>\n",
       "      <th>predictions_all</th>\n",
       "      <th>ID</th>\n",
       "      <th>Species</th>\n",
       "    </tr>\n",
       "  </thead>\n",
       "  <tbody>\n",
       "    <tr>\n",
       "      <th>0</th>\n",
       "      <td>ASG0002zxl</td>\n",
       "      <td>species</td>\n",
       "      <td>hartebeest</td>\n",
       "      <td>0.7227</td>\n",
       "      <td>{'aardvark': '0.0000', 'aardwolf': '0.0000', '...</td>\n",
       "      <td>4169</td>\n",
       "      <td>hartebeest</td>\n",
       "    </tr>\n",
       "    <tr>\n",
       "      <th>8</th>\n",
       "      <td>ASG0002zxp</td>\n",
       "      <td>species</td>\n",
       "      <td>reedbuck</td>\n",
       "      <td>0.2954</td>\n",
       "      <td>{'aardvark': '0.0000', 'aardwolf': '0.0001', '...</td>\n",
       "      <td>4172</td>\n",
       "      <td>hartebeest</td>\n",
       "    </tr>\n",
       "    <tr>\n",
       "      <th>16</th>\n",
       "      <td>ASG00001ea</td>\n",
       "      <td>species</td>\n",
       "      <td>topi</td>\n",
       "      <td>0.4595</td>\n",
       "      <td>{'aardvark': '0.0017', 'aardwolf': '0.0016', '...</td>\n",
       "      <td>4466</td>\n",
       "      <td>hartebeest</td>\n",
       "    </tr>\n",
       "    <tr>\n",
       "      <th>24</th>\n",
       "      <td>ASG000324g</td>\n",
       "      <td>species</td>\n",
       "      <td>hartebeest</td>\n",
       "      <td>0.9908</td>\n",
       "      <td>{'aardvark': '0.0000', 'aardwolf': '0.0000', '...</td>\n",
       "      <td>6727</td>\n",
       "      <td>hartebeest</td>\n",
       "    </tr>\n",
       "    <tr>\n",
       "      <th>32</th>\n",
       "      <td>ASG0002zzm</td>\n",
       "      <td>species</td>\n",
       "      <td>wildebeest</td>\n",
       "      <td>0.3090</td>\n",
       "      <td>{'aardvark': '0.0004', 'aardwolf': '0.0004', '...</td>\n",
       "      <td>4202</td>\n",
       "      <td>hartebeest</td>\n",
       "    </tr>\n",
       "  </tbody>\n",
       "</table>\n",
       "</div>"
      ],
      "text/plain": [
       "            id    label prediction_top  confidence_top  \\\n",
       "0   ASG0002zxl  species     hartebeest          0.7227   \n",
       "8   ASG0002zxp  species       reedbuck          0.2954   \n",
       "16  ASG00001ea  species           topi          0.4595   \n",
       "24  ASG000324g  species     hartebeest          0.9908   \n",
       "32  ASG0002zzm  species     wildebeest          0.3090   \n",
       "\n",
       "                                      predictions_all    ID     Species  \n",
       "0   {'aardvark': '0.0000', 'aardwolf': '0.0000', '...  4169  hartebeest  \n",
       "8   {'aardvark': '0.0000', 'aardwolf': '0.0001', '...  4172  hartebeest  \n",
       "16  {'aardvark': '0.0017', 'aardwolf': '0.0016', '...  4466  hartebeest  \n",
       "24  {'aardvark': '0.0000', 'aardwolf': '0.0000', '...  6727  hartebeest  \n",
       "32  {'aardvark': '0.0004', 'aardwolf': '0.0004', '...  4202  hartebeest  "
      ]
     },
     "execution_count": 2,
     "metadata": {},
     "output_type": "execute_result"
    }
   ],
   "source": [
    "# limit to species label only\n",
    "sdf = sdf[sdf.label=='species']\n",
    "sdf.head()"
   ]
  },
  {
   "cell_type": "code",
   "execution_count": 3,
   "metadata": {},
   "outputs": [],
   "source": [
    "# top ten predictions for the data\n",
    "top_ten = sdf.prediction_top.value_counts()[:10]"
   ]
  },
  {
   "cell_type": "code",
   "execution_count": 5,
   "metadata": {},
   "outputs": [
    {
     "data": {
      "text/plain": [
       "<matplotlib.axes._subplots.AxesSubplot at 0x205e2cf5780>"
      ]
     },
     "execution_count": 5,
     "metadata": {},
     "output_type": "execute_result"
    },
    {
     "data": {
      "image/png": "[encoded data removed]",
      "text/plain": [
       "<Figure size 432x288 with 1 Axes>"
      ]
     },
     "metadata": {},
     "output_type": "display_data"
    }
   ],
   "source": [
    "top_ten.plot.bar(title=\"Top ten predictions for \" + species)"
   ]
  },
  {
   "cell_type": "code",
   "execution_count": 6,
   "metadata": {},
   "outputs": [
    {
     "name": "stdout",
     "output_type": "stream",
     "text": [
      "total predictions= 12429\n",
      "hartebeest count= 10706\n",
      "percent match= 0.8613725963472524\n"
     ]
    }
   ],
   "source": [
    "prediction_count = sdf.prediction_top.count()\n",
    "species_count = sdf[sdf.prediction_top==species].prediction_top.count()\n",
    "print(\"total predictions=\", prediction_count)\n",
    "print(species, \"count=\", species_count)\n",
    "print(\"percent match=\",float(species_count)/prediction_count)"
   ]
  },
  {
   "cell_type": "code",
   "execution_count": 7,
   "metadata": {},
   "outputs": [
    {
     "data": {
      "text/plain": [
       "<matplotlib.axes._subplots.AxesSubplot at 0x205e2d6a0b8>"
      ]
     },
     "execution_count": 7,
     "metadata": {},
     "output_type": "execute_result"
    },
    {
     "data": {
      "image/png": "[encoded data removed]",
      "text/plain": [
       "<Figure size 432x288 with 1 Axes>"
      ]
     },
     "metadata": {},
     "output_type": "display_data"
    }
   ],
   "source": [
    "# confidence boxplot\n",
    "sdf.confidence_top.plot.box(title='confidence of all predictions', showfliers=False)"
   ]
  },
  {
   "cell_type": "code",
   "execution_count": 8,
   "metadata": {},
   "outputs": [
    {
     "data": {
      "text/plain": [
       "count    12429.000000\n",
       "mean         0.860169\n",
       "std          0.205787\n",
       "min          0.137400\n",
       "25%          0.799800\n",
       "50%          0.972000\n",
       "75%          0.996300\n",
       "max          1.000000\n",
       "Name: confidence_top, dtype: float64"
      ]
     },
     "execution_count": 8,
     "metadata": {},
     "output_type": "execute_result"
    }
   ],
   "source": [
    "sdf.confidence_top.describe()"
   ]
  },
  {
   "cell_type": "code",
   "execution_count": 9,
   "metadata": {},
   "outputs": [
    {
     "data": {
      "text/plain": [
       "<matplotlib.axes._subplots.AxesSubplot at 0x205e2de24a8>"
      ]
     },
     "execution_count": 9,
     "metadata": {},
     "output_type": "execute_result"
    },
    {
     "data": {
      "image/png": "[encoded data removed]",
      "text/plain": [
       "<Figure size 432x288 with 1 Axes>"
      ]
     },
     "metadata": {},
     "output_type": "display_data"
    }
   ],
   "source": [
    "sdf[sdf.prediction_top==species].confidence_top.plot.box(title='confidence of {} predictions'.format(species), showfliers=False)"
   ]
  },
  {
   "cell_type": "code",
   "execution_count": 10,
   "metadata": {},
   "outputs": [
    {
     "data": {
      "text/plain": [
       "count    10706.000000\n",
       "mean         0.908624\n",
       "std          0.153018\n",
       "min          0.151300\n",
       "25%          0.898825\n",
       "50%          0.982500\n",
       "75%          0.997200\n",
       "max          1.000000\n",
       "Name: confidence_top, dtype: float64"
      ]
     },
     "execution_count": 10,
     "metadata": {},
     "output_type": "execute_result"
    }
   ],
   "source": [
    "sdf[sdf.prediction_top==species].confidence_top.describe()"
   ]
  }
 ],
 "metadata": {
  "kernelspec": {
   "display_name": "Python 3",
   "language": "python",
   "name": "python3"
  },
  "language_info": {
   "codemirror_mode": {
    "name": "ipython",
    "version": 3
   },
   "file_extension": ".py",
   "mimetype": "text/x-python",
   "name": "python",
   "nbconvert_exporter": "python",
   "pygments_lexer": "ipython3",
   "version": "3.6.5"
  }
 },
 "nbformat": 4,
 "nbformat_minor": 2
}
