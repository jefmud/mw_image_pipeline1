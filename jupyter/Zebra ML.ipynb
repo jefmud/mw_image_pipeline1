{
 "cells": [
  {
   "cell_type": "code",
   "execution_count": 15,
   "metadata": {},
   "outputs": [],
   "source": [
    "import os\n",
    "import pandas as pd\n",
    "species = 'zebra'\n",
    "# note zebra is huge, so we can load its zip file instead\n",
    "fname = os.path.join('output', species + '_output.zip')\n",
    "sdf = pd.read_csv(fname, compression='zip')"
   ]
  },
  {
   "cell_type": "code",
   "execution_count": 16,
   "metadata": {},
   "outputs": [
    {
     "data": {
      "text/html": [
       "<div>\n",
       "<style scoped>\n",
       "    .dataframe tbody tr th:only-of-type {\n",
       "        vertical-align: middle;\n",
       "    }\n",
       "\n",
       "    .dataframe tbody tr th {\n",
       "        vertical-align: top;\n",
       "    }\n",
       "\n",
       "    .dataframe thead th {\n",
       "        text-align: right;\n",
       "    }\n",
       "</style>\n",
       "<table border=\"1\" class=\"dataframe\">\n",
       "  <thead>\n",
       "    <tr style=\"text-align: right;\">\n",
       "      <th></th>\n",
       "      <th>id</th>\n",
       "      <th>label</th>\n",
       "      <th>prediction_top</th>\n",
       "      <th>confidence_top</th>\n",
       "      <th>predictions_all</th>\n",
       "      <th>Species</th>\n",
       "      <th>ID</th>\n",
       "    </tr>\n",
       "  </thead>\n",
       "  <tbody>\n",
       "    <tr>\n",
       "      <th>0</th>\n",
       "      <td>ASG00001dv</td>\n",
       "      <td>species</td>\n",
       "      <td>zebra</td>\n",
       "      <td>0.9935</td>\n",
       "      <td>{'aardvark': '0.0000', 'aardwolf': '0.0000', '...</td>\n",
       "      <td>zebra</td>\n",
       "      <td>ASG00001dv_2</td>\n",
       "    </tr>\n",
       "    <tr>\n",
       "      <th>8</th>\n",
       "      <td>ASG00001dw</td>\n",
       "      <td>species</td>\n",
       "      <td>zebra</td>\n",
       "      <td>0.9918</td>\n",
       "      <td>{'aardvark': '0.0000', 'aardwolf': '0.0000', '...</td>\n",
       "      <td>zebra</td>\n",
       "      <td>ASG00001dw_2</td>\n",
       "    </tr>\n",
       "    <tr>\n",
       "      <th>16</th>\n",
       "      <td>ASG000322r</td>\n",
       "      <td>species</td>\n",
       "      <td>zebra</td>\n",
       "      <td>0.7864</td>\n",
       "      <td>{'aardvark': '0.0000', 'aardwolf': '0.0000', '...</td>\n",
       "      <td>zebra</td>\n",
       "      <td>ASG000322r_2</td>\n",
       "    </tr>\n",
       "    <tr>\n",
       "      <th>24</th>\n",
       "      <td>ASG00001dy</td>\n",
       "      <td>species</td>\n",
       "      <td>zebra</td>\n",
       "      <td>0.9974</td>\n",
       "      <td>{'aardvark': '0.0000', 'aardwolf': '0.0000', '...</td>\n",
       "      <td>zebra</td>\n",
       "      <td>ASG00001dy_2</td>\n",
       "    </tr>\n",
       "    <tr>\n",
       "      <th>32</th>\n",
       "      <td>ASG00001dz</td>\n",
       "      <td>species</td>\n",
       "      <td>zebra</td>\n",
       "      <td>0.9846</td>\n",
       "      <td>{'aardvark': '0.0000', 'aardwolf': '0.0000', '...</td>\n",
       "      <td>zebra</td>\n",
       "      <td>ASG00001dz_2</td>\n",
       "    </tr>\n",
       "  </tbody>\n",
       "</table>\n",
       "</div>"
      ],
      "text/plain": [
       "            id    label prediction_top  confidence_top  \\\n",
       "0   ASG00001dv  species          zebra          0.9935   \n",
       "8   ASG00001dw  species          zebra          0.9918   \n",
       "16  ASG000322r  species          zebra          0.7864   \n",
       "24  ASG00001dy  species          zebra          0.9974   \n",
       "32  ASG00001dz  species          zebra          0.9846   \n",
       "\n",
       "                                      predictions_all Species            ID  \n",
       "0   {'aardvark': '0.0000', 'aardwolf': '0.0000', '...   zebra  ASG00001dv_2  \n",
       "8   {'aardvark': '0.0000', 'aardwolf': '0.0000', '...   zebra  ASG00001dw_2  \n",
       "16  {'aardvark': '0.0000', 'aardwolf': '0.0000', '...   zebra  ASG000322r_2  \n",
       "24  {'aardvark': '0.0000', 'aardwolf': '0.0000', '...   zebra  ASG00001dy_2  \n",
       "32  {'aardvark': '0.0000', 'aardwolf': '0.0000', '...   zebra  ASG00001dz_2  "
      ]
     },
     "execution_count": 16,
     "metadata": {},
     "output_type": "execute_result"
    }
   ],
   "source": [
    "# limit to species label only\n",
    "sdf = sdf[sdf.label=='species']\n",
    "sdf.head()"
   ]
  },
  {
   "cell_type": "code",
   "execution_count": 17,
   "metadata": {},
   "outputs": [],
   "source": [
    "# top ten predictions for the data\n",
    "top_ten = sdf.prediction_top.value_counts()[:10]"
   ]
  },
  {
   "cell_type": "code",
   "execution_count": 18,
   "metadata": {},
   "outputs": [
    {
     "data": {
      "text/plain": [
       "<matplotlib.axes._subplots.AxesSubplot at 0x2ce04f3eb00>"
      ]
     },
     "execution_count": 18,
     "metadata": {},
     "output_type": "execute_result"
    },
    {
     "data": {
      "image/png": "[encoded data removed]",
      "text/plain": [
       "<Figure size 432x288 with 1 Axes>"
      ]
     },
     "metadata": {},
     "output_type": "display_data"
    }
   ],
   "source": [
    "top_ten.plot.bar(title=\"Top ten predictions for \" + species)"
   ]
  },
  {
   "cell_type": "code",
   "execution_count": 9,
   "metadata": {},
   "outputs": [
    {
     "name": "stdout",
     "output_type": "stream",
     "text": [
      "total predictions= 35546\n",
      "zebra count= 31610\n",
      "percent match= 0.8892702413773702\n"
     ]
    }
   ],
   "source": [
    "prediction_count = sdf.prediction_top.count()\n",
    "species_count = sdf[sdf.prediction_top==species].prediction_top.count()\n",
    "print(\"total predictions=\", prediction_count)\n",
    "print(species, \"count=\", species_count)\n",
    "print(\"percent match=\",float(species_count)/prediction_count)"
   ]
  },
  {
   "cell_type": "code",
   "execution_count": 19,
   "metadata": {},
   "outputs": [
    {
     "data": {
      "text/plain": [
       "<matplotlib.axes._subplots.AxesSubplot at 0x2ce07f06358>"
      ]
     },
     "execution_count": 19,
     "metadata": {},
     "output_type": "execute_result"
    },
    {
     "data": {
      "image/png": "[encoded data removed]",
      "text/plain": [
       "<Figure size 432x288 with 1 Axes>"
      ]
     },
     "metadata": {},
     "output_type": "display_data"
    }
   ],
   "source": [
    "# confidence boxplot\n",
    "sdf.confidence_top.plot.box(title='confidence of all predictions', showfliers=False)"
   ]
  },
  {
   "cell_type": "code",
   "execution_count": 20,
   "metadata": {},
   "outputs": [
    {
     "data": {
      "text/plain": [
       "count    35546.000000\n",
       "mean         0.946073\n",
       "std          0.142588\n",
       "min          0.113100\n",
       "25%          0.991800\n",
       "50%          0.999600\n",
       "75%          1.000000\n",
       "max          1.000000\n",
       "Name: confidence_top, dtype: float64"
      ]
     },
     "execution_count": 20,
     "metadata": {},
     "output_type": "execute_result"
    }
   ],
   "source": [
    "sdf.confidence_top.describe()"
   ]
  },
  {
   "cell_type": "code",
   "execution_count": 21,
   "metadata": {},
   "outputs": [
    {
     "data": {
      "text/plain": [
       "<matplotlib.axes._subplots.AxesSubplot at 0x2ce082dbd68>"
      ]
     },
     "execution_count": 21,
     "metadata": {},
     "output_type": "execute_result"
    },
    {
     "data": {
      "image/png": "[encoded data removed]",
      "text/plain": [
       "<Figure size 432x288 with 1 Axes>"
      ]
     },
     "metadata": {},
     "output_type": "display_data"
    }
   ],
   "source": [
    "sdf[sdf.prediction_top==species].confidence_top.plot.box(title='confidence of {} predictions'.format(species), showfliers=False)"
   ]
  },
  {
   "cell_type": "code",
   "execution_count": 14,
   "metadata": {},
   "outputs": [
    {
     "data": {
      "text/plain": [
       "count    31610.000000\n",
       "mean         0.962358\n",
       "std          0.115336\n",
       "min          0.113100\n",
       "25%          0.996500\n",
       "50%          0.999700\n",
       "75%          1.000000\n",
       "max          1.000000\n",
       "Name: confidence_top, dtype: float64"
      ]
     },
     "execution_count": 14,
     "metadata": {},
     "output_type": "execute_result"
    }
   ],
   "source": [
    "sdf[sdf.prediction_top==species].confidence_top.describe()"
   ]
  },
  {
   "cell_type": "code",
   "execution_count": null,
   "metadata": {},
   "outputs": [],
   "source": []
  }
 ],
 "metadata": {
  "kernelspec": {
   "display_name": "Python 3",
   "language": "python",
   "name": "python3"
  },
  "language_info": {
   "codemirror_mode": {
    "name": "ipython",
    "version": 3
   },
   "file_extension": ".py",
   "mimetype": "text/x-python",
   "name": "python",
   "nbconvert_exporter": "python",
   "pygments_lexer": "ipython3",
   "version": "3.6.5"
  }
 },
 "nbformat": 4,
 "nbformat_minor": 2
}
